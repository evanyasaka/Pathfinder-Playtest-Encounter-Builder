{
 "cells": [
  {
   "cell_type": "code",
   "execution_count": 1,
   "metadata": {},
   "outputs": [],
   "source": [
    "import pandas as pd\n",
    "import numpy as np\n",
    "import ipywidgets as widgets\n",
    "from IPython.display import display\n",
    "from IPython.display import update_display"
   ]
  },
  {
   "cell_type": "markdown",
   "metadata": {},
   "source": [
    "# Pathfinder Playtest Encounter Creator\n",
    "\n",
    "## Overview\n",
    "This is a python based tool for DMs to design encounters for the Pathfinder Playtest Rulset. The goal is to be able to quickly and efficiently design encounters with minimal input from the user.\n",
    "\n",
    "## Plan and Implementation\n",
    "To achieve this goal, my approach is to use stepwise design in an implementation similar to the \"rod-cutting\" dynamic programming problem where all costs for each \"length\" are equal. That is, the minimum viable product goal is to naievely find all possible permutations of creatures that match our parameters.\n",
    "\n",
    "The algorithm should take several parameters. \n",
    "- Party Level\n",
    "- Party Size\n",
    "- Encounter Severirty\n",
    "- (Optional) The maximum number of creatures for the encounter.\n",
    "- (Optional) The minimum number of creatures for the encounter.\n",
    "- (Optional) An XP Budget\n",
    "\n",
    "### The Algorithm\n",
    "The algorithm itself will try to attain a combination of creatures that is equal to or under the cost of the encounter severity OR an XP budget if provided. \n",
    "To do this it will use top-down greedy programming by first choosing the largest XP cost creature that fits the budget. Once found it will store that local solution into a database and then recurse finding the next highest costing creature that fits. When a creature is found and there is still a remaning budget left, it will then use that new remaining budget and recurse down again choosing the local maximum until the base case where the remaining budget is 0. "
   ]
  },
  {
   "cell_type": "code",
   "execution_count": 69,
   "metadata": {},
   "outputs": [],
   "source": [
    "#__________This section contains all of the background setup__________\n",
    "\n",
    "# Load the bestiary database\n",
    "bestiary = pd.read_csv('data/bestiary.csv');\n",
    "#bestiary\n",
    "\n",
    "# Set the baseline encounter xp values.\n",
    "BUDGETS = {'Trivial': [40,10], 'Low': [60,15], 'High': [80,20], 'Severe': [120,30], 'Extreme': [160,40]}"
   ]
  },
  {
   "cell_type": "code",
   "execution_count": 71,
   "metadata": {
    "scrolled": false
   },
   "outputs": [],
   "source": [
    "#__________This section contains the Algorithm that powers the encounter builder__________\n",
    "\n",
    "# This global variable is the master list that contains all of the encounters.\n",
    "encounter_list = []\n",
    "\n",
    "# This function does most of the heavy lifting.\n",
    "# Input:\n",
    "#     catalogue: The bestiary an all of their associated xp values.\n",
    "#            xp: The experience budget to dictate how many monsters can fit in a given encounter.\n",
    "#   party_level: The party's level. Used in finding the xp value of a creature relative to the party's level.\n",
    "#         max_c: The maxmimum amount of creatures allowed in an encounter.\n",
    "#         min_c: The minimum amount of creatures allowed in an encounter.\n",
    "#     encounter: (Optional) This contains the current encounter being worked on. Initially starts as empty but\n",
    "#                           is filled during recursive calls.\n",
    "# Returns:\n",
    "#          None\n",
    "# This function takes a series of parameters to build an encounter and append it to a global list of possible encounters.\n",
    "# Using recursion, it finds creatures in the bestiary that contain xp values less than the budget and adds it as a leaf\n",
    "# node in the encounter tree. Then it attempts to recurse and add a new leaf node if there is more xp budget and there \n",
    "# is enough space left in the encounter. If neither of those conditions are met, it publishes the current encounter to the \n",
    "# global list an removes the leaf node to try a new one.\n",
    "def find_creature(catalogue, xp, party_level,max_c,min_c,encounter=[]):\n",
    "    \n",
    "    # Base Case\n",
    "    # The xp budget is 0 therefore no new leaf nodes can be added. Immediately publish the current encounter.\n",
    "    if xp == 0:\n",
    "        publish(encounter.copy())\n",
    "    \n",
    "    # Otherwise iterate through the whole list of monsters to find appropriate children\n",
    "    else:\n",
    "        # Loop through every monster\n",
    "        for index, row in catalogue.iterrows():\n",
    "            # Check to see if we can afford the xp cost of the current monster.\n",
    "            if int(row[str(party_level)]) <= xp:\n",
    "                encounter.append(row['CREATURE NAME'])       # We can afford it so add it as a leaf node to the encounter tree.\n",
    "                newBudget = xp - int(row[str(party_level)])  # Calcualte the remaining budget.\n",
    "                if len(encounter) < max_c:                   # If we still have space in the encounter, recursively call and\n",
    "                                                             # attempt to find a new monster that we can afford.\n",
    "                    find_creature(catalogue, newBudget, party_level, max_c, min_c,encounter)\n",
    "                    \n",
    "                # Once we have used up the budget we can publish.\n",
    "                # This works because if we haven't added anything to the encounter then we can publish what we have.\n",
    "                # If it did add something to the encounter however, that level's recursive call will handle the publishing.\n",
    "                \n",
    "                if len(encounter) >= min_c:     # If the encounter meets the minimum monster count we can publish.\n",
    "                    publish(encounter.copy())\n",
    "                del encounter[-1]               # After publishing the encounter we want to remove the leaf that was used and\n",
    "                                                # so that we can try a new one.\n",
    "\n",
    "                    \n",
    "# This is a helper function to publish an encounter to the encounter list.\n",
    "# Input:\n",
    "#   current_enc: Contains the encounter to be published in list form.\n",
    "# Returns:\n",
    "#          None\n",
    "def publish(current_enc):\n",
    "    global encounter_list\n",
    "    if len(current_enc) > 0:     # Check to make sure we aren't publishing an empty list.\n",
    "        if current_enc not in encounter_list:    # Also make sure that we don't publish something that's already there.\n",
    "            encounter_list.append(current_enc)\n",
    "    \n",
    "# This is the driver function that's called from the main body. \n",
    "# Input:\n",
    "#   party_level: The party's level. Used in finding the xp value of a creature relative to the party's level.\n",
    "#    party_size: The size of the party. Used in conjunction with the severity to calculate the XP budget.\n",
    "#      severity: Used with the party size to calculate the XP budget in the event a budget is not provided.\n",
    "#         max_c: The maxmimum amount of creatures allowed in an encounter.\n",
    "#         min_c: The minimum amount of creatures allowed in an encounter.\n",
    "#        budget: A manually input XP budget.\n",
    "# Returns:\n",
    "#          None\n",
    "def build_encounters(party_level,party_size,severity,max_c,min_c,budget):\n",
    "    global encounter_list\n",
    "    # First, calcualte total encounter budget.\n",
    "    if budget > 0:\n",
    "        XP_Budget = budget\n",
    "    else:\n",
    "        if party_size > 4:\n",
    "            XP_Budget = BUDGETS[severity][0] + (BUDGETS[severity][1] * (party_size - 4))\n",
    "        elif party_size < 4:\n",
    "            XP_Budget = BUDGETS[severity][0] - (BUDGETS[severity][1] * (4-party_size))\n",
    "        else:\n",
    "            XP_Budget = BUDGETS[severity][0]\n",
    "    \n",
    "    # Next, consult the database and get the XP values for each creature based on the specified level.\n",
    "    xp_costs = bestiary[['CREATURE NAME', str(party_level)]]\n",
    "    nontrivial_xp_costs = xp_costs[xp_costs[str(party_level)] != '-']\n",
    "    pruned_xp_costs = nontrivial_xp_costs[nontrivial_xp_costs[str(party_level)] != 'X']\n",
    "    \n",
    "    # Now that we have the creatures and how much they cost, build all possible encounters.\n",
    "    find_creature(pruned_xp_costs,XP_Budget,party_level,max_c,min_c) # This function does most of the heavy lifting\n",
    "                                                                     # and builds the encounter list into a global variable.\n",
    "    temp_enc_list = encounter_list.copy() # Copy the encounters list into a temporary value to return\n",
    "    encounter_list = []                   # Scrub the global encounters list clean so that it can be ready for another\n",
    "                                          # query.\n",
    "    return temp_enc_list\n",
    "\n",
    "\n",
    "#Testing Function\n",
    "#Build an High threat encounter for a party of 4 level 1 adventurers with a max of five monsters and a minimum of one.\n",
    "#XP Budget: 80\n",
    "test = build_encounters(1,4,'High',5,1,0)\n",
    "\n",
    "\n",
    "#encounter_list\n",
    "#print('Making sure the Encounter List is now empty.',encounter_list)\n",
    "#test"
   ]
  },
  {
   "cell_type": "code",
   "execution_count": 91,
   "metadata": {
    "scrolled": false
   },
   "outputs": [
    {
     "data": {
      "application/vnd.jupyter.widget-view+json": {
       "model_id": "307281c2f06b40649950afff682195da",
       "version_major": 2,
       "version_minor": 0
      },
      "text/plain": [
       "IntSlider(value=1, description='Party Level:', layout=Layout(width='40%'), max=20, min=1, style=SliderStyle(de…"
      ]
     },
     "metadata": {},
     "output_type": "display_data"
    },
    {
     "data": {
      "application/vnd.jupyter.widget-view+json": {
       "model_id": "92050466ddd5438ab96f9f1d8c42fff9",
       "version_major": 2,
       "version_minor": 0
      },
      "text/plain": [
       "IntSlider(value=4, description='Party Size:', layout=Layout(width='40%'), max=10, style=SliderStyle(descriptio…"
      ]
     },
     "metadata": {},
     "output_type": "display_data"
    },
    {
     "data": {
      "application/vnd.jupyter.widget-view+json": {
       "model_id": "9cd62b3b15984991af05f5753cb11533",
       "version_major": 2,
       "version_minor": 0
      },
      "text/plain": [
       "Dropdown(description='Encounter Severity: ', options=('Trivial', 'Low', 'High', 'Severe', 'Extreme'), style=De…"
      ]
     },
     "metadata": {},
     "output_type": "display_data"
    },
    {
     "data": {
      "application/vnd.jupyter.widget-view+json": {
       "model_id": "43ab5667f5ee4d7480a3913d7b2d4159",
       "version_major": 2,
       "version_minor": 0
      },
      "text/plain": [
       "BoundedIntText(value=0, description='Manual XP Budget (Optional):', max=500, step=5, style=DescriptionStyle(de…"
      ]
     },
     "metadata": {},
     "output_type": "display_data"
    },
    {
     "name": "stdout",
     "output_type": "stream",
     "text": [
      "\n",
      "\n",
      "Select a minimum and maximum number of creatures to use in the encounter:\n"
     ]
    },
    {
     "data": {
      "application/vnd.jupyter.widget-view+json": {
       "model_id": "c4394991f3c5496d89c4c4dee0c62939",
       "version_major": 2,
       "version_minor": 0
      },
      "text/plain": [
       "IntRangeSlider(value=(1, 20), continuous_update=False, layout=Layout(width='40%'), max=20, min=1)"
      ]
     },
     "metadata": {},
     "output_type": "display_data"
    },
    {
     "data": {
      "application/vnd.jupyter.widget-view+json": {
       "model_id": "27224d5b26a54242b28478e2c0d260b9",
       "version_major": 2,
       "version_minor": 0
      },
      "text/plain": [
       "Button(description='Build Encounters!', style=ButtonStyle())"
      ]
     },
     "metadata": {},
     "output_type": "display_data"
    },
    {
     "name": "stdout",
     "output_type": "stream",
     "text": [
      "Working...\n",
      "Encounters saved to file:  PL-1_PS-4_SEV-High_MIN-1_Max-3_CB-0.csv\n"
     ]
    }
   ],
   "source": [
    "#__________This section contains the code that drives the interface__________\n",
    "\n",
    "button = widgets.Button(description=\"Build Encounters!\")\n",
    "def on_button_clicked(b):\n",
    "    print('Working...')\n",
    "    solution = build_encounters(party_level.value, \n",
    "                                party_size.value, \n",
    "                                severity.value,\n",
    "                                creature_count.value[1], \n",
    "                                creature_count.value[0],\n",
    "                                custom_budget.value)\n",
    "    filename = 'PL-'+str(party_level.value)+'_PS-'+str(party_size.value)+'_SEV-'+severity.value\n",
    "    filename = filename+'_MIN-'+str(creature_count.value[0])+'_Max-'+str(creature_count.value[1])\n",
    "    filename = filename+'_CB-'+str(custom_budget.value)+'.csv'\n",
    "    df = pd.DataFrame(solution)\n",
    "    df.to_csv(filename, index=False)\n",
    "    print('Encounters saved to file: ',filename)\n",
    "    \n",
    "button.on_click(on_button_clicked)\n",
    "\n",
    "party_level = widgets.IntSlider(\n",
    "    value=1,\n",
    "    min=1,\n",
    "    max=20,\n",
    "    description='Party Level:',\n",
    "    orientation='horizontal',\n",
    "    readout=True,\n",
    "    readout_format='d',\n",
    "    style = {'description_width': 'initial'},\n",
    "    layout=widgets.Layout(width='40%')\n",
    ")\n",
    "party_size = widgets.IntSlider(\n",
    "    value=4,\n",
    "    min=0,\n",
    "    max=10,\n",
    "    description='Party Size:',\n",
    "    orientation='horizontal',\n",
    "    readout=True,\n",
    "    readout_format='d',\n",
    "    style = {'description_width': 'initial'},\n",
    "    layout=widgets.Layout(width='40%')\n",
    ")\n",
    "\n",
    "severity = widgets.Dropdown(\n",
    "    options=['Trivial', 'Low', 'High', 'Severe', 'Extreme'],\n",
    "    value='Trivial',\n",
    "    description='Encounter Severity: ',\n",
    "    disabled=False,\n",
    "    style = {'description_width': 'initial',}\n",
    ")\n",
    "\n",
    "custom_budget = widgets.BoundedIntText(\n",
    "    value='0',\n",
    "    min=0,\n",
    "    max=500,\n",
    "    step=5,\n",
    "    description='Manual XP Budget (Optional):',\n",
    "    disabled=False,\n",
    "    style = {'description_width': 'initial'}\n",
    ")\n",
    "\n",
    "creature_count = widgets.IntRangeSlider(\n",
    "    value=[1, 20],\n",
    "    min=1,\n",
    "    max=20,\n",
    "    step=1,\n",
    "    disabled=False,\n",
    "    continuous_update=False,\n",
    "    orientation='horizontal',\n",
    "    readout=True,\n",
    "    readout_format='d',\n",
    "    layout=widgets.Layout(width='40%')\n",
    ")\n",
    "\n",
    "\n",
    "display(party_level)\n",
    "display(party_size)\n",
    "display(severity)\n",
    "display(custom_budget)\n",
    "\n",
    "print('')\n",
    "print('')\n",
    "print(\"Select a minimum and maximum number of creatures to use in the encounter:\")\n",
    "display(creature_count)\n",
    "\n",
    "\n",
    "\n",
    "\n",
    "\n",
    "display(button)"
   ]
  },
  {
   "cell_type": "code",
   "execution_count": null,
   "metadata": {},
   "outputs": [],
   "source": []
  }
 ],
 "metadata": {
  "kernelspec": {
   "display_name": "Python 3",
   "language": "python",
   "name": "python3"
  },
  "language_info": {
   "codemirror_mode": {
    "name": "ipython",
    "version": 3
   },
   "file_extension": ".py",
   "mimetype": "text/x-python",
   "name": "python",
   "nbconvert_exporter": "python",
   "pygments_lexer": "ipython3",
   "version": "3.7.1"
  }
 },
 "nbformat": 4,
 "nbformat_minor": 2
}
