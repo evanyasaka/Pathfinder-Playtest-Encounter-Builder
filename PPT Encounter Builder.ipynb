{
 "cells": [
  {
   "cell_type": "code",
   "execution_count": 1,
   "metadata": {},
   "outputs": [],
   "source": [
    "import pandas as pd\n",
    "import numpy as np\n",
    "import ipywidgets as widgets\n",
    "from IPython.display import display\n",
    "from IPython.display import update_display"
   ]
  },
  {
   "cell_type": "markdown",
   "metadata": {},
   "source": [
    "# Pathfinder Playtest Encounter Creator\n",
    "\n",
    "## Overview\n",
    "This is a python based tool for DMs to design encounters for the Pathfinder Playtest Rulset. The goal is to be able to quickly and efficiently design encounters with minimal input from the user.\n",
    "\n",
    "## Plan and Implementation\n",
    "To achieve this goal, my approach is to use stepwise design in an implementation similar to the \"rod-cutting\" dynamic programming problem where all costs for each \"length\" are equal. That is, the minimum viable product goal is to naievely find all possible permutations of creatures that match our parameters.\n",
    "\n",
    "The algorithm should take several parameters. \n",
    "- Party Level\n",
    "- Party Size\n",
    "- Encounter Severirty\n",
    "- (Optional) The maximum number of creatures for the encounter.\n",
    "- (Optional) The minimum number of creatures for the encounter.\n",
    "- (Optional) An XP Budget\n",
    "\n",
    "### The Algorithm\n",
    "The algorithm itself will try to attain a combination of creatures that is equal to or under the cost of the encounter severity OR an XP budget if provided. \n",
    "To do this it will use top-down greedy programming by first choosing the largest XP cost creature that fits the budget. Once found it will store that local solution into a database and then recurse finding the next highest costing creature that fits. When a creature is found and there is still a remaning budget left, it will then use that new remaining budget and recurse down again choosing the local maximum until the base case where the remaining budget is 0. "
   ]
  },
  {
   "cell_type": "code",
   "execution_count": 51,
   "metadata": {},
   "outputs": [
    {
     "data": {
      "text/plain": [
       "145"
      ]
     },
     "execution_count": 51,
     "metadata": {},
     "output_type": "execute_result"
    }
   ],
   "source": [
    "#__________This section contains all of the background setup__________\n",
    "\n",
    "# Load the bestiary database\n",
    "bestiary = pd.read_csv('data/bestiary.csv');\n",
    "#bestiary\n",
    "\n",
    "# Set the baseline encounter xp values.\n",
    "BUDGETS = {'Trivial': [40,10], 'Low': [60,15], 'High': [80,20], 'Severe': [120,30], 'Extreme': [160,40]}\n",
    "\n",
    "\n",
    "xp_costs = bestiary[['CREATURE NAME','10']]\n",
    "nontrivial_xp_costs = xp_costs[xp_costs['10'] != '-']\n",
    "pruned_xp_costs = nontrivial_xp_costs[nontrivial_xp_costs['10'] != 'X']\n",
    "pruned_xp_costs\n",
    "pruned_xp_costs.index[0]"
   ]
  },
  {
   "cell_type": "code",
   "execution_count": 65,
   "metadata": {
    "scrolled": false
   },
   "outputs": [
    {
     "name": "stdout",
     "output_type": "stream",
     "text": [
      "XP Budget:  80\n",
      "Found a creature in budget:  None\n"
     ]
    },
    {
     "ename": "TypeError",
     "evalue": "unhashable type: 'list'",
     "output_type": "error",
     "traceback": [
      "\u001b[1;31m---------------------------------------------------------------------------\u001b[0m",
      "\u001b[1;31mTypeError\u001b[0m                                 Traceback (most recent call last)",
      "\u001b[1;32m<ipython-input-65-756ed5fcb6ba>\u001b[0m in \u001b[0;36m<module>\u001b[1;34m\u001b[0m\n\u001b[0;32m     58\u001b[0m \u001b[0mtest\u001b[0m \u001b[1;33m=\u001b[0m \u001b[0mbuild_encounters\u001b[0m\u001b[1;33m(\u001b[0m\u001b[1;36m1\u001b[0m\u001b[1;33m,\u001b[0m\u001b[1;36m4\u001b[0m\u001b[1;33m,\u001b[0m\u001b[1;34m'High'\u001b[0m\u001b[1;33m,\u001b[0m\u001b[1;36m5\u001b[0m\u001b[1;33m,\u001b[0m\u001b[1;36m1\u001b[0m\u001b[1;33m,\u001b[0m\u001b[1;36m0\u001b[0m\u001b[1;33m)\u001b[0m\u001b[1;33m\u001b[0m\u001b[1;33m\u001b[0m\u001b[0m\n\u001b[0;32m     59\u001b[0m \u001b[1;32mfrom\u001b[0m \u001b[0mcollections\u001b[0m \u001b[1;32mimport\u001b[0m \u001b[0mOrderedDict\u001b[0m\u001b[1;33m\u001b[0m\u001b[1;33m\u001b[0m\u001b[0m\n\u001b[1;32m---> 60\u001b[1;33m \u001b[0mlist\u001b[0m\u001b[1;33m(\u001b[0m\u001b[0mOrderedDict\u001b[0m\u001b[1;33m.\u001b[0m\u001b[0mfromkeys\u001b[0m\u001b[1;33m(\u001b[0m\u001b[0mencounter_list\u001b[0m\u001b[1;33m)\u001b[0m\u001b[1;33m)\u001b[0m\u001b[1;33m\u001b[0m\u001b[1;33m\u001b[0m\u001b[0m\n\u001b[0m",
      "\u001b[1;31mTypeError\u001b[0m: unhashable type: 'list'"
     ]
    }
   ],
   "source": [
    "# This section contains the top-down greedy algorithm.\n",
    "\n",
    "\n",
    "encounter_list = []\n",
    "encounter = []\n",
    "\n",
    "# Every call to this function returns a creature name.\n",
    "def find_creature(catalogue, xp, party_level):\n",
    "    global encounter\n",
    "    global encounter_list\n",
    "    if xp == 0:\n",
    "        #print(\"XP Budget has reached 0.\")\n",
    "        encounter_list.append(encounter)\n",
    "        encounter = []\n",
    "    else:\n",
    "        for index, row in catalogue[::-1].iterrows():\n",
    "            if int(row[party_level]) <= xp:\n",
    "                #print(\"Found creature whose within budget.\")\n",
    "                encounter.append(row['CREATURE NAME'])\n",
    "                newBudget = xp - int(row[party_level])\n",
    "                find_creature(catalogue, newBudget, party_level)\n",
    "            if index == catalogue.index[0] and len(encounter) > 0:\n",
    "                #print(\"Reached End of List \", row)\n",
    "                #publish the encounter\n",
    "                if encounter not in encounter_list:\n",
    "                    encounter_list.append(encounter)\n",
    "                #remove the last item\n",
    "                del encounter[-1]\n",
    "\n",
    "def build_encounters(party_level,party_size,severity,max_c,min_c,budget):\n",
    "    solutions = []\n",
    "    \n",
    "    # First, calcualte total encounter budget.\n",
    "    if budget > 0:\n",
    "        XP_Budget = budget\n",
    "    else:\n",
    "        if party_size > 4:\n",
    "            XP_Budget = BUDGETS[severity][0] + (BUDGETS[severity][1] * (party_size - 4))\n",
    "        elif party_size < 4:\n",
    "            XP_Budget = BUDGETS[severity][0] - (BUDGETS[severity][1] * (4-party_size))\n",
    "        else:\n",
    "            XP_Budget = BUDGETS[severity][0]\n",
    "    print(\"XP Budget: \", XP_Budget)\n",
    "    \n",
    "    # Next, consult the database and get the XP values for each creature based on the specified level.\n",
    "    xp_costs = bestiary[['CREATURE NAME', str(party_level)]]\n",
    "    nontrivial_xp_costs = xp_costs[xp_costs[str(party_level)] != '-']\n",
    "    pruned_xp_costs = nontrivial_xp_costs[nontrivial_xp_costs[str(party_level)] != 'X']\n",
    "    \n",
    "    # Now that we have the creatures and how much they cost, build all possible encounters.\n",
    "    print(\"Found a creature in budget: \",find_creature(pruned_xp_costs,XP_Budget,party_level))\n",
    "    \n",
    "    return pruned_xp_costs\n",
    "\n",
    "#Testing Function\n",
    "#Build an High threat encounter for a party of 4 level 1 adventurers with a max of five monsters and a minimum of one.\n",
    "#XP Budget: 80\n",
    "test = build_encounters(1,4,'High',5,1,0)\n",
    "from collections import OrderedDict\n",
    "list(OrderedDict.fromkeys(encounter_list))\n"
   ]
  },
  {
   "cell_type": "code",
   "execution_count": 13,
   "metadata": {
    "scrolled": false
   },
   "outputs": [
    {
     "data": {
      "application/vnd.jupyter.widget-view+json": {
       "model_id": "f47ca07c8329411c8fc4d9c60161a5ec",
       "version_major": 2,
       "version_minor": 0
      },
      "text/plain": [
       "IntSlider(value=1, description='Party Level:', layout=Layout(width='40%'), max=20, min=1, style=SliderStyle(de…"
      ]
     },
     "metadata": {},
     "output_type": "display_data"
    },
    {
     "data": {
      "application/vnd.jupyter.widget-view+json": {
       "model_id": "9733a35762d84e8482fbc685acbfe77c",
       "version_major": 2,
       "version_minor": 0
      },
      "text/plain": [
       "IntSlider(value=4, description='Party Size:', layout=Layout(width='40%'), max=10, style=SliderStyle(descriptio…"
      ]
     },
     "metadata": {},
     "output_type": "display_data"
    },
    {
     "data": {
      "application/vnd.jupyter.widget-view+json": {
       "model_id": "05a1894d225343b2a7f0f1486dbd6b80",
       "version_major": 2,
       "version_minor": 0
      },
      "text/plain": [
       "Dropdown(description='Encounter Severity: ', options=('Trivial', 'Low', 'High', 'Severe', 'Extreme'), style=De…"
      ]
     },
     "metadata": {},
     "output_type": "display_data"
    },
    {
     "data": {
      "application/vnd.jupyter.widget-view+json": {
       "model_id": "ec102044e82842739d8fe2aec3668bab",
       "version_major": 2,
       "version_minor": 0
      },
      "text/plain": [
       "BoundedIntText(value=0, description='Manual XP Budget (Optional):', max=500, step=5, style=DescriptionStyle(de…"
      ]
     },
     "metadata": {},
     "output_type": "display_data"
    },
    {
     "name": "stdout",
     "output_type": "stream",
     "text": [
      "\n",
      "\n",
      "Select a minimum and maximum number of creatures to use in the encounter:\n"
     ]
    },
    {
     "data": {
      "application/vnd.jupyter.widget-view+json": {
       "model_id": "e95d764b396b48feb970e45b5c7cbc7a",
       "version_major": 2,
       "version_minor": 0
      },
      "text/plain": [
       "IntRangeSlider(value=(1, 20), continuous_update=False, layout=Layout(width='40%'), max=20, min=1)"
      ]
     },
     "metadata": {},
     "output_type": "display_data"
    },
    {
     "data": {
      "application/vnd.jupyter.widget-view+json": {
       "model_id": "5cb1339639b04cc49ab6fa15f60d8624",
       "version_major": 2,
       "version_minor": 0
      },
      "text/plain": [
       "Button(description='Build Encounters!', style=ButtonStyle())"
      ]
     },
     "metadata": {},
     "output_type": "display_data"
    },
    {
     "name": "stdout",
     "output_type": "stream",
     "text": [
      "XP Budget:  60\n",
      "Found a creature in budget:  CREATURE NAME    Zombie brute\n",
      "1                          60\n",
      "Name: 84, dtype: object\n"
     ]
    }
   ],
   "source": [
    "# This section is the interface. \n",
    "\n",
    "button = widgets.Button(description=\"Build Encounters!\")\n",
    "def on_button_clicked(b):\n",
    "    solution = build_encounters(party_level.value, \n",
    "                                party_size.value, \n",
    "                                severity.value,\n",
    "                                creature_count.value[1], \n",
    "                                creature_count.value[0],\n",
    "                                custom_budget.value)\n",
    "    #print(\"Encounter List: \",solution)\n",
    "    #type(solution)\n",
    "button.on_click(on_button_clicked)\n",
    "\n",
    "party_level = widgets.IntSlider(\n",
    "    value=1,\n",
    "    min=1,\n",
    "    max=20,\n",
    "    description='Party Level:',\n",
    "    orientation='horizontal',\n",
    "    readout=True,\n",
    "    readout_format='d',\n",
    "    style = {'description_width': 'initial'},\n",
    "    layout=widgets.Layout(width='40%')\n",
    ")\n",
    "party_size = widgets.IntSlider(\n",
    "    value=4,\n",
    "    min=0,\n",
    "    max=10,\n",
    "    description='Party Size:',\n",
    "    orientation='horizontal',\n",
    "    readout=True,\n",
    "    readout_format='d',\n",
    "    style = {'description_width': 'initial'},\n",
    "    layout=widgets.Layout(width='40%')\n",
    ")\n",
    "\n",
    "severity = widgets.Dropdown(\n",
    "    options=['Trivial', 'Low', 'High', 'Severe', 'Extreme'],\n",
    "    value='Trivial',\n",
    "    description='Encounter Severity: ',\n",
    "    disabled=False,\n",
    "    style = {'description_width': 'initial',}\n",
    ")\n",
    "\n",
    "custom_budget = widgets.BoundedIntText(\n",
    "    value='0',\n",
    "    min=0,\n",
    "    max=500,\n",
    "    step=5,\n",
    "    description='Manual XP Budget (Optional):',\n",
    "    disabled=False,\n",
    "    style = {'description_width': 'initial'}\n",
    ")\n",
    "\n",
    "creature_count = widgets.IntRangeSlider(\n",
    "    value=[1, 20],\n",
    "    min=1,\n",
    "    max=20,\n",
    "    step=1,\n",
    "    disabled=False,\n",
    "    continuous_update=False,\n",
    "    orientation='horizontal',\n",
    "    readout=True,\n",
    "    readout_format='d',\n",
    "    layout=widgets.Layout(width='40%')\n",
    ")\n",
    "\n",
    "\n",
    "display(party_level)\n",
    "display(party_size)\n",
    "display(severity)\n",
    "display(custom_budget)\n",
    "\n",
    "print('')\n",
    "print('')\n",
    "print(\"Select a minimum and maximum number of creatures to use in the encounter:\")\n",
    "display(creature_count)\n",
    "\n",
    "\n",
    "\n",
    "\n",
    "\n",
    "display(button)"
   ]
  },
  {
   "cell_type": "code",
   "execution_count": null,
   "metadata": {},
   "outputs": [],
   "source": []
  }
 ],
 "metadata": {
  "kernelspec": {
   "display_name": "Python 3",
   "language": "python",
   "name": "python3"
  },
  "language_info": {
   "codemirror_mode": {
    "name": "ipython",
    "version": 3
   },
   "file_extension": ".py",
   "mimetype": "text/x-python",
   "name": "python",
   "nbconvert_exporter": "python",
   "pygments_lexer": "ipython3",
   "version": "3.7.1"
  }
 },
 "nbformat": 4,
 "nbformat_minor": 2
}
