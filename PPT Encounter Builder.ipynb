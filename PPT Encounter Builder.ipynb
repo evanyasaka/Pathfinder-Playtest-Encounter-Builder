{
 "cells": [
  {
   "cell_type": "code",
   "execution_count": 3,
   "metadata": {},
   "outputs": [],
   "source": [
    "import pandas as pd\n",
    "import numpy as np\n",
    "import ipywidgets as widgets\n",
    "from IPython.display import display\n",
    "from IPython.display import update_display"
   ]
  },
  {
   "cell_type": "markdown",
   "metadata": {},
   "source": [
    "# Pathfinder Playtest Encounter Creator\n",
    "\n",
    "## Overview\n",
    "This is a python based tool for DMs to design encounters for the Pathfinder Playtest Rulset. The goal is to be able to quickly and efficiently design encounters with minimal input from the user.\n",
    "\n",
    "___\n",
    "\n",
    "## Plan and Implementation\n",
    "To achieve this goal, my approach is to use stepwise design in an implementation similar to the \"rod-cutting\" dynamic programming problem where all costs for each \"length\" are equal. That is, the minimum viable product goal is to naievely find all possible permutations of creatures that match our parameters.\n",
    "\n",
    "The algorithm should take several parameters. \n",
    "- Party Level\n",
    "- Party Size\n",
    "- Encounter Severirty\n",
    "- (Optional) The maximum number of creatures for the encounter.\n",
    "- (Optional) The minimum number of creatures for the encounter.\n",
    "- (Optional) An XP Budget\n",
    "\n",
    "### The Algorithm\n",
    "The algorithm itself will try to attain a combination of creatures that is equal to or under the cost of the encounter severity OR an XP budget if provided. \n",
    "To do this it will use top-down greedy programming by first choosing the largest XP cost creature that fits the budget. Once found it will store that local solution into a database and then recurse finding the next highest costing creature that fits. When a creature is found and there is still a remaning budget left, it will then use that new remaining budget and recurse down again choosing the local maximum until the base case where the remaining budget is 0.\n",
    "\n",
    "### Stretch Goals\n",
    "\n",
    " - __Themed Encounters__: I want the application to be able to design encounters based on themes such as \"Undead\" or \"Jungle\" or some arbitrary theme. On a napkin, I imagine this being implemented by creatures being associated with something like traits, attributes, or creature types. This allows most of the filtering to be done in the data wrangling portion of the application so that the algorithm doesn't need much changing.\n",
    " \n",
    " - __DM \"Encounter Cheat Sheet\"__: This originally started as a small project to make it easier for me as a DM to make an encounter on the fly. As most of we DMs know, all the planning in the world doesn't mean you're fully prepared and I wanted an quick and easy tool to create encounters in the events where it would narritively make sense when I didn't have something prepared. To that end, I'd like the application to be able to make a \"cheat sheet\". Essentially a quick reference sheet that I can use to reference their monster cards and maybe as an extra feature even further into the future, the ability to track their health.\n",
    "\n",
    "___\n",
    "\n",
    "## Project Notes\n",
    "\n",
    "While attempting to develop the algorithm I had initially intended to design, I ran into a lot of issues where I felt like the approach didn't match what I was trying to achieve. Specifically, I modeled the problem on paper like a rod-cutting algorithm. I imagined the length of the rod that I needed to cut being the xp budget for the given encounter. Early on however I realized that the rod-cutting problem is fundamentally different than what I was trying to achieve. \n",
    "\n",
    "The rod-cutting algorithm's goal is to maximize how much \"money\" you can sell the rod for if you were to sell smaller parts of it individually. That is, the rod can be cut up into different sizes and each one of those sizes is worth a certain amount of money. The goal of the algorithm is to compare the combinations of different sized cuts to come out with a series of cuts that maximizes the money earned.\n",
    "\n",
    "The is fundamentally different to what I am trying to acheive in two ways. The first is that by building an encounter, I am not trying to maximize anything. While the rod-cutting algorithm seeks to find a \"best\" solution, I am trying to find \"all\" or multiple solutions. The second is that the rod-cutting algorithm seeks to use as much of the \"rod\" as possible. The encounter designer is similar however it should allow for some leeway into allowing encounters that do not meet the full budget but meet the maximum number of creatures desired.\n",
    "\n",
    "To that note, instead of immediately looking into optimal solutions, I created a naive approach algorithm that seeks to produce what I want. The way the naive algorithm works is that it loops through all mosnters in the bestiary. For every monster, it attempts to build an encounter by first putting that monster into an encounter if it is within the xp budget and calculates the remaining budget. From there it will then loop through the monster list again to put the next monster that it comes across that is within budget into the encoutner and recalculates the remaining budget. It will do this until it either does not find a monster, or the remaning budget is 0. In that case it will \"publish\" the encounter to a _global_ list of _possible_ encounters and delete the last monster that made no other combinations possible from the current encounter. It will then continue onto the next monster that meets requirements and repeats ad nauseum. \n",
    "\n",
    "This approach is significantly inefficient since the effiency is in an O(n<sup>c</sup>) class. In this case the n is the bestiary size and the c refers to the maximum amount of monsters you want in the encounter.\n",
    "\n",
    "---\n",
    "### Improvements\n",
    "\n",
    "For my next version, I want to try figure out what ways I can make the algorithm more efficient. Specifically, the things I want to look at are limiting the search space by doing things such as:\n",
    "\n",
    "- Stopping after finding X amount of solutions.\n",
    "- In addition to that trying random combinations of monsters so that we potentially search for < N amount of monsters. \n",
    "- Using filtering for thigns such as traits, monster type, locations, etc to narrow down the size of N.\n",
    "- Implementing arbitrary rules such as \"First monster must meet at least 50% of total cost.\"\n",
    "- Using a stop condition in cases where no matches were found after looping through the whole list of possible monsters. \n",
    "- Changing the base case so that if the amount of experience left is < the lowest possible xp value the algorithm stops.\n",
    "- Options to dictate specific monsters that must be included.\n",
    "\n",
    "For a more complex way to increase efficiency, I want to look at way the algorithm could be multi-threaded so that two different possibilities of encouners can be built at the same time. Or, while one monster is being found, another thread could be finding the next monster with an estimated remaining budget. Due to the way multithreading works in python however, I believe there wwould be some potential difficulty in maintaining data integrity and ensuring there are no race conditions."
   ]
  },
  {
   "cell_type": "code",
   "execution_count": 4,
   "metadata": {},
   "outputs": [],
   "source": [
    "#__________This section contains all of the background setup__________\n",
    "\n",
    "# Load the bestiary database\n",
    "bestiary = pd.read_csv('data/bestiary.csv');\n",
    "#bestiary\n",
    "\n",
    "# Set the baseline encounter xp values.\n",
    "BUDGETS = {'Trivial': [40,10], 'Low': [60,15], 'High': [80,20], 'Severe': [120,30], 'Extreme': [160,40]}"
   ]
  },
  {
   "cell_type": "code",
   "execution_count": 5,
   "metadata": {
    "scrolled": false
   },
   "outputs": [],
   "source": [
    "#__________This section contains the Algorithm that powers the encounter builder__________\n",
    "\n",
    "# This global variable is the master list that contains all of the encounters.\n",
    "encounter_list = []\n",
    "\n",
    "# This function does most of the heavy lifting.\n",
    "# Input:\n",
    "#     catalogue: The bestiary an all of their associated xp values.\n",
    "#            xp: The experience budget to dictate how many monsters can fit in a given encounter.\n",
    "#   party_level: The party's level. Used in finding the xp value of a creature relative to the party's level.\n",
    "#         max_c: The maxmimum amount of creatures allowed in an encounter.\n",
    "#         min_c: The minimum amount of creatures allowed in an encounter.\n",
    "#     encounter: (Optional) This contains the current encounter being worked on. Initially starts as empty but\n",
    "#                           is filled during recursive calls.\n",
    "# Returns:\n",
    "#          None\n",
    "# This function takes a series of parameters to build an encounter and append it to a global list of possible encounters.\n",
    "# Using recursion, it finds creatures in the bestiary that contain xp values less than the budget and adds it as a leaf\n",
    "# node in the encounter tree. Then it attempts to recurse and add a new leaf node if there is more xp budget and there \n",
    "# is enough space left in the encounter. If neither of those conditions are met, it publishes the current encounter to the \n",
    "# global list an removes the leaf node to try a new one.\n",
    "def find_creature(catalogue, xp, party_level,max_c,min_c,encounter=[]):\n",
    "    \n",
    "    # Base Case\n",
    "    # The xp budget is 0 therefore no new leaf nodes can be added. Immediately publish the current encounter.\n",
    "    if xp < 10:\n",
    "        publish(encounter.copy())\n",
    "    \n",
    "    # Otherwise iterate through the whole list of monsters to find appropriate children\n",
    "    else:\n",
    "        # Loop through every monster\n",
    "        for index, row in catalogue.iterrows():\n",
    "            # Check to see if we can afford the xp cost of the current monster.\n",
    "            if int(row[str(party_level)]) <= xp:\n",
    "                encounter.append(row['CREATURE NAME'])       # We can afford it so add it as a leaf node to the encounter tree.\n",
    "                newBudget = xp - int(row[str(party_level)])  # Calcualte the remaining budget.\n",
    "                if len(encounter) < max_c:                   # If we still have space in the encounter, recursively call and\n",
    "                                                             # attempt to find a new monster that we can afford.\n",
    "                    find_creature(catalogue, newBudget, party_level, max_c, min_c,encounter)\n",
    "                    \n",
    "                # Once we have used up the budget we can publish.\n",
    "                # This works because if we haven't added anything to the encounter then we can publish what we have.\n",
    "                # If it did add something to the encounter however, that level's recursive call will handle the publishing.\n",
    "                \n",
    "                if len(encounter) >= min_c:     # If the encounter meets the minimum monster count we can publish.\n",
    "                    publish(encounter.copy())\n",
    "                del encounter[-1]               # After publishing the encounter we want to remove the leaf that was used and\n",
    "                                                # so that we can try a new one.\n",
    "\n",
    "                    \n",
    "# This is a helper function to publish an encounter to the encounter list.\n",
    "# Input:\n",
    "#   current_enc: Contains the encounter to be published in list form.\n",
    "# Returns:\n",
    "#          None\n",
    "def publish(current_enc):\n",
    "    global encounter_list\n",
    "    if len(current_enc) > 0:     # Check to make sure we aren't publishing an empty list.\n",
    "        if current_enc not in encounter_list:    # Also make sure that we don't publish something that's already there.\n",
    "            encounter_list.append(current_enc)\n",
    "    \n",
    "# This is the driver function that's called from the main body. \n",
    "# Input:\n",
    "#   party_level: The party's level. Used in finding the xp value of a creature relative to the party's level.\n",
    "#    party_size: The size of the party. Used in conjunction with the severity to calculate the XP budget.\n",
    "#      severity: Used with the party size to calculate the XP budget in the event a budget is not provided.\n",
    "#         max_c: The maxmimum amount of creatures allowed in an encounter.\n",
    "#         min_c: The minimum amount of creatures allowed in an encounter.\n",
    "#        budget: A manually input XP budget.\n",
    "# Returns:\n",
    "#          None\n",
    "def build_encounters(party_level,party_size,severity,max_c,min_c,budget):\n",
    "    global encounter_list\n",
    "    # First, calcualte total encounter budget.\n",
    "    if budget > 0:\n",
    "        XP_Budget = budget\n",
    "    else:\n",
    "        if party_size > 4:\n",
    "            XP_Budget = BUDGETS[severity][0] + (BUDGETS[severity][1] * (party_size - 4))\n",
    "        elif party_size < 4:\n",
    "            XP_Budget = BUDGETS[severity][0] - (BUDGETS[severity][1] * (4-party_size))\n",
    "        else:\n",
    "            XP_Budget = BUDGETS[severity][0]\n",
    "    \n",
    "    # Next, consult the database and get the XP values for each creature based on the specified level.\n",
    "    xp_costs = bestiary[['CREATURE NAME', str(party_level)]]           # Get the cost for all creatures.\n",
    "    nontrivial_xp_costs = xp_costs[xp_costs[str(party_level)] != '-']  # Remove all creatures of trivial difficulty.\n",
    "    pruned_xp_costs = nontrivial_xp_costs[nontrivial_xp_costs[str(party_level)] != 'X'] # Remove all creatures of impossible difficulty.\n",
    "    \n",
    "    # Now that we have the creatures and how much they cost, build all possible encounters.\n",
    "    find_creature(pruned_xp_costs,XP_Budget,party_level,max_c,min_c) # This function does most of the heavy lifting\n",
    "                                                                     # and builds the encounter list into a global variable.\n",
    "    temp_enc_list = encounter_list.copy() # Copy the encounters list into a temporary value to return\n",
    "    encounter_list = []                   # Scrub the global encounters list clean so that it can be ready for another\n",
    "                                          # query.\n",
    "    return temp_enc_list                  # Return the copy of the list.\n",
    "\n",
    "\n",
    "#Testing Function\n",
    "#Build an High threat encounter for a party of 4 level 1 adventurers with a max of five monsters and a minimum of one.\n",
    "#XP Budget: 80\n",
    "#test = build_encounters(1,4,'High',5,1,0)\n",
    "\n",
    "\n",
    "#encounter_list\n",
    "#print('Making sure the Encounter List is now empty.',encounter_list)\n",
    "#test"
   ]
  },
  {
   "cell_type": "code",
   "execution_count": 6,
   "metadata": {
    "scrolled": false
   },
   "outputs": [
    {
     "data": {
      "application/vnd.jupyter.widget-view+json": {
       "model_id": "bb28c8c490fb4f6e8db2a691e8bc8658",
       "version_major": 2,
       "version_minor": 0
      },
      "text/plain": [
       "IntSlider(value=1, description='Party Level:', layout=Layout(width='40%'), max=20, min=1, style=SliderStyle(de…"
      ]
     },
     "metadata": {},
     "output_type": "display_data"
    },
    {
     "data": {
      "application/vnd.jupyter.widget-view+json": {
       "model_id": "9c5c89ff66274dbe8e85705cbe9cea99",
       "version_major": 2,
       "version_minor": 0
      },
      "text/plain": [
       "IntSlider(value=4, description='Party Size:', layout=Layout(width='40%'), max=10, style=SliderStyle(descriptio…"
      ]
     },
     "metadata": {},
     "output_type": "display_data"
    },
    {
     "data": {
      "application/vnd.jupyter.widget-view+json": {
       "model_id": "aee3e488f15f403e853368e71341ac8b",
       "version_major": 2,
       "version_minor": 0
      },
      "text/plain": [
       "Dropdown(description='Encounter Severity: ', options=('Trivial', 'Low', 'High', 'Severe', 'Extreme'), style=De…"
      ]
     },
     "metadata": {},
     "output_type": "display_data"
    },
    {
     "data": {
      "application/vnd.jupyter.widget-view+json": {
       "model_id": "14ad25130cb54817bad0b6359b7e2f85",
       "version_major": 2,
       "version_minor": 0
      },
      "text/plain": [
       "BoundedIntText(value=0, description='Manual XP Budget (Optional):', max=500, step=5, style=DescriptionStyle(de…"
      ]
     },
     "metadata": {},
     "output_type": "display_data"
    },
    {
     "name": "stdout",
     "output_type": "stream",
     "text": [
      "\n",
      "\n",
      "Select a minimum and maximum number of creatures to use in the encounter:\n"
     ]
    },
    {
     "data": {
      "application/vnd.jupyter.widget-view+json": {
       "model_id": "f78a3cdaf4a64c7295b795cb4e39c055",
       "version_major": 2,
       "version_minor": 0
      },
      "text/plain": [
       "IntRangeSlider(value=(1, 20), continuous_update=False, layout=Layout(width='40%'), max=20, min=1)"
      ]
     },
     "metadata": {},
     "output_type": "display_data"
    },
    {
     "data": {
      "application/vnd.jupyter.widget-view+json": {
       "model_id": "10556e356001428eb3e304cc31a83cc3",
       "version_major": 2,
       "version_minor": 0
      },
      "text/plain": [
       "Button(description='Build Encounters!', style=ButtonStyle())"
      ]
     },
     "metadata": {},
     "output_type": "display_data"
    }
   ],
   "source": [
    "#__________This section contains the code that drives the interface__________\n",
    "\n",
    "button = widgets.Button(description=\"Build Encounters!\")\n",
    "def on_button_clicked(b):\n",
    "    print('Working...')\n",
    "    solution = build_encounters(party_level.value, \n",
    "                                party_size.value, \n",
    "                                severity.value,\n",
    "                                creature_count.value[1], \n",
    "                                creature_count.value[0],\n",
    "                                custom_budget.value)\n",
    "    \n",
    "    filename = 'PL-'+str(party_level.value)+'_PS-'+str(party_size.value)+'_SEV-'+severity.value\n",
    "    filename = filename+'_MIN-'+str(creature_count.value[0])+'_Max-'+str(creature_count.value[1])\n",
    "    filename = filename+'_CB-'+str(custom_budget.value)+'.csv'\n",
    "    \n",
    "    df = pd.DataFrame(solution)\n",
    "    #print(\"Number of Columns: \",len(df.columns))\n",
    "    columnNames = []\n",
    "    for col in df.columns:\n",
    "        columnNames.append('Monster ' + str(col + 1))\n",
    "    df.columns = columnNames\n",
    "    df.to_csv(filename, index=False)\n",
    "    print('Encounters saved to file: ',filename)\n",
    "    \n",
    "button.on_click(on_button_clicked)\n",
    "\n",
    "party_level = widgets.IntSlider(\n",
    "    value=1,\n",
    "    min=1,\n",
    "    max=20,\n",
    "    description='Party Level:',\n",
    "    orientation='horizontal',\n",
    "    readout=True,\n",
    "    readout_format='d',\n",
    "    style = {'description_width': 'initial'},\n",
    "    layout=widgets.Layout(width='40%')\n",
    ")\n",
    "party_size = widgets.IntSlider(\n",
    "    value=4,\n",
    "    min=0,\n",
    "    max=10,\n",
    "    description='Party Size:',\n",
    "    orientation='horizontal',\n",
    "    readout=True,\n",
    "    readout_format='d',\n",
    "    style = {'description_width': 'initial'},\n",
    "    layout=widgets.Layout(width='40%')\n",
    ")\n",
    "\n",
    "severity = widgets.Dropdown(\n",
    "    options=['Trivial', 'Low', 'High', 'Severe', 'Extreme'],\n",
    "    value='Trivial',\n",
    "    description='Encounter Severity: ',\n",
    "    disabled=False,\n",
    "    style = {'description_width': 'initial',}\n",
    ")\n",
    "\n",
    "custom_budget = widgets.BoundedIntText(\n",
    "    value='0',\n",
    "    min=0,\n",
    "    max=500,\n",
    "    step=5,\n",
    "    description='Manual XP Budget (Optional):',\n",
    "    disabled=False,\n",
    "    style = {'description_width': 'initial'}\n",
    ")\n",
    "\n",
    "creature_count = widgets.IntRangeSlider(\n",
    "    value=[1, 20],\n",
    "    min=1,\n",
    "    max=20,\n",
    "    step=1,\n",
    "    disabled=False,\n",
    "    continuous_update=False,\n",
    "    orientation='horizontal',\n",
    "    readout=True,\n",
    "    readout_format='d',\n",
    "    layout=widgets.Layout(width='40%')\n",
    ")\n",
    "\n",
    "\n",
    "display(party_level)\n",
    "display(party_size)\n",
    "display(severity)\n",
    "display(custom_budget)\n",
    "\n",
    "print('')\n",
    "print('')\n",
    "print(\"Select a minimum and maximum number of creatures to use in the encounter:\")\n",
    "display(creature_count)\n",
    "\n",
    "\n",
    "\n",
    "\n",
    "display(button)"
   ]
  },
  {
   "cell_type": "code",
   "execution_count": 1,
   "metadata": {},
   "outputs": [
    {
     "ename": "SystemExit",
     "evalue": "0",
     "output_type": "error",
     "traceback": [
      "An exception has occurred, use %tb to see the full traceback.\n",
      "\u001b[1;31mSystemExit\u001b[0m\u001b[1;31m:\u001b[0m 0\n"
     ]
    },
    {
     "name": "stderr",
     "output_type": "stream",
     "text": [
      "C:\\Users\\Rachel Yasaka\\Anaconda3\\lib\\site-packages\\IPython\\core\\interactiveshell.py:3275: UserWarning: To exit: use 'exit', 'quit', or Ctrl-D.\n",
      "  warn(\"To exit: use 'exit', 'quit', or Ctrl-D.\", stacklevel=1)\n"
     ]
    }
   ],
   "source": [
    "import sys\n",
    "from PyQt5.QtWidgets import QApplication, QWidget\n",
    "from PyQt5.QtGui import QIcon\n",
    "\n",
    "\n",
    "class Example(QWidget):\n",
    "    \n",
    "    def __init__(self):\n",
    "        super().__init__()\n",
    "        \n",
    "        self.initUI()\n",
    "        \n",
    "        \n",
    "    def initUI(self):\n",
    "        \n",
    "        self.setGeometry(300, 300, 1080, 720)\n",
    "        self.setWindowTitle('Icon')\n",
    "        self.setWindowIcon(QIcon('web.png'))        \n",
    "    \n",
    "        self.show()\n",
    "        \n",
    "        \n",
    "if __name__ == '__main__':\n",
    "    \n",
    "    app = QApplication(sys.argv)\n",
    "    ex = Example()\n",
    "    sys.exit(app.exec_())"
   ]
  },
  {
   "cell_type": "code",
   "execution_count": null,
   "metadata": {},
   "outputs": [],
   "source": []
  }
 ],
 "metadata": {
  "kernelspec": {
   "display_name": "Python 3",
   "language": "python",
   "name": "python3"
  },
  "language_info": {
   "codemirror_mode": {
    "name": "ipython",
    "version": 3
   },
   "file_extension": ".py",
   "mimetype": "text/x-python",
   "name": "python",
   "nbconvert_exporter": "python",
   "pygments_lexer": "ipython3",
   "version": "3.7.1"
  },
  "widgets": {
   "application/vnd.jupyter.widget-state+json": {
    "state": {
     "0031038c64504f48a0456e68b6bb22ca": {
      "model_module": "@jupyter-widgets/base",
      "model_module_version": "1.1.0",
      "model_name": "LayoutModel",
      "state": {
       "width": "40%"
      }
     },
     "006701141f78487487a5b6e2f7058dbb": {
      "model_module": "@jupyter-widgets/controls",
      "model_module_version": "1.4.0",
      "model_name": "BoundedIntTextModel",
      "state": {
       "description": "Manual XP Budget (Optional):",
       "layout": "IPY_MODEL_dab195cf7fcc4b548fb2be871f03b608",
       "max": 500,
       "step": 5,
       "style": "IPY_MODEL_e7788893051940778b971209e6ccb97f"
      }
     },
     "00b62b085a2f47cfa83a5a21f2f65117": {
      "model_module": "@jupyter-widgets/base",
      "model_module_version": "1.1.0",
      "model_name": "LayoutModel",
      "state": {
       "width": "40%"
      }
     },
     "00c6da3e18d44fecb4026ee515efd61a": {
      "model_module": "@jupyter-widgets/controls",
      "model_module_version": "1.4.0",
      "model_name": "DropdownModel",
      "state": {
       "_options_labels": [
        "Trivial",
        "Low",
        "High",
        "Severe",
        "Extreme"
       ],
       "description": "Encounter Severity: ",
       "index": 0,
       "layout": "IPY_MODEL_e1827020d82c4349bd356a7aa37d0a4f",
       "style": "IPY_MODEL_b089b6756aa346668b0662607a9ff66a"
      }
     },
     "021c5554ef4340bbb22f899be91120d2": {
      "model_module": "@jupyter-widgets/controls",
      "model_module_version": "1.4.0",
      "model_name": "BoundedIntTextModel",
      "state": {
       "description": "Manual XP Budget (Optional):",
       "layout": "IPY_MODEL_7fc6dbc7b1364e8396f435e00ac82434",
       "max": 500,
       "step": 5,
       "style": "IPY_MODEL_f83c26ec325e47919f987f2e8e1a91eb"
      }
     },
     "034b4228efa046fc826262cf7a2625b4": {
      "model_module": "@jupyter-widgets/controls",
      "model_module_version": "1.4.0",
      "model_name": "SliderStyleModel",
      "state": {
       "description_width": "initial"
      }
     },
     "04c958211fb7440a8bc6766942b56fa5": {
      "model_module": "@jupyter-widgets/controls",
      "model_module_version": "1.4.0",
      "model_name": "ButtonModel",
      "state": {
       "description": "Build Encounters!",
       "layout": "IPY_MODEL_2beac3170e974e4c8a18ed29fdd3bece",
       "style": "IPY_MODEL_28022aff4b4c4764a9c5aeacd5238491"
      }
     },
     "04d9428664194466a6d249d677c2c170": {
      "model_module": "@jupyter-widgets/controls",
      "model_module_version": "1.4.0",
      "model_name": "SliderStyleModel",
      "state": {
       "description_width": ""
      }
     },
     "04e3b741c1c24da5abc7e68a8ff3529b": {
      "model_module": "@jupyter-widgets/base",
      "model_module_version": "1.1.0",
      "model_name": "LayoutModel",
      "state": {
       "width": "40%"
      }
     },
     "051628545b02466db395ea361d9787ff": {
      "model_module": "@jupyter-widgets/controls",
      "model_module_version": "1.4.0",
      "model_name": "ButtonModel",
      "state": {
       "description": "Build Encounters!",
       "layout": "IPY_MODEL_09aaaf41f3c841c09e10e8ef21d441f2",
       "style": "IPY_MODEL_7ce849beb2564133befda2d113cbeb5a"
      }
     },
     "074535c5feef4a80ad717a7f64ef6b2a": {
      "model_module": "@jupyter-widgets/controls",
      "model_module_version": "1.4.0",
      "model_name": "SliderStyleModel",
      "state": {
       "description_width": "initial"
      }
     },
     "07f27acc3af649948ec506d8fa80d09e": {
      "model_module": "@jupyter-widgets/controls",
      "model_module_version": "1.4.0",
      "model_name": "SliderStyleModel",
      "state": {
       "description_width": ""
      }
     },
     "09aaaf41f3c841c09e10e8ef21d441f2": {
      "model_module": "@jupyter-widgets/base",
      "model_module_version": "1.1.0",
      "model_name": "LayoutModel",
      "state": {}
     },
     "0ba5ecb5aa4f4696ab59bcf4a54ce9d0": {
      "model_module": "@jupyter-widgets/base",
      "model_module_version": "1.1.0",
      "model_name": "LayoutModel",
      "state": {
       "width": "40%"
      }
     },
     "0d05cf2d78b749b49553a5888a453bc6": {
      "model_module": "@jupyter-widgets/controls",
      "model_module_version": "1.4.0",
      "model_name": "SliderStyleModel",
      "state": {
       "description_width": "initial"
      }
     },
     "0d1b5fcbd7814ca4b73cf77aea9f4419": {
      "model_module": "@jupyter-widgets/controls",
      "model_module_version": "1.4.0",
      "model_name": "ButtonStyleModel",
      "state": {}
     },
     "0ef2052529164693b5865dfb35d251f2": {
      "model_module": "@jupyter-widgets/controls",
      "model_module_version": "1.4.0",
      "model_name": "ButtonStyleModel",
      "state": {}
     },
     "104c20ab7f34416b8827303f29c8d3bd": {
      "model_module": "@jupyter-widgets/controls",
      "model_module_version": "1.4.0",
      "model_name": "SliderStyleModel",
      "state": {
       "description_width": ""
      }
     },
     "11bd58a4960e4dd09d81463d4e9a8c24": {
      "model_module": "@jupyter-widgets/controls",
      "model_module_version": "1.4.0",
      "model_name": "SliderStyleModel",
      "state": {
       "description_width": ""
      }
     },
     "11eeb9b8cb1a45f29e348c9cf4f80d1c": {
      "model_module": "@jupyter-widgets/controls",
      "model_module_version": "1.4.0",
      "model_name": "SliderStyleModel",
      "state": {
       "description_width": "initial"
      }
     },
     "131cb06bf6b74b9c9c561699894aecf0": {
      "model_module": "@jupyter-widgets/controls",
      "model_module_version": "1.4.0",
      "model_name": "BoundedIntTextModel",
      "state": {
       "description": "Manual XP Budget (Optional):",
       "layout": "IPY_MODEL_370dcd679c294b32a56e4f68f09c8bd1",
       "max": 500,
       "step": 5,
       "style": "IPY_MODEL_b1c158c68d0744d88ebd2033ad4c028c"
      }
     },
     "137abf485fbf4851a67e29ab54fab8f4": {
      "model_module": "@jupyter-widgets/base",
      "model_module_version": "1.1.0",
      "model_name": "LayoutModel",
      "state": {}
     },
     "13fa734356e6401da6e024c48794f8f0": {
      "model_module": "@jupyter-widgets/base",
      "model_module_version": "1.1.0",
      "model_name": "LayoutModel",
      "state": {
       "width": "40%"
      }
     },
     "1491be5e8d3842e38351b224850f88ac": {
      "model_module": "@jupyter-widgets/controls",
      "model_module_version": "1.4.0",
      "model_name": "BoundedIntTextModel",
      "state": {
       "description": "Manual XP Budget (Optional):",
       "layout": "IPY_MODEL_ec479cab65fe4fefbd280f9a10c87fbf",
       "max": 500,
       "step": 5,
       "style": "IPY_MODEL_9225397b0278464791e0862298a72819"
      }
     },
     "1581b4dff15143639d68564af4b1f620": {
      "model_module": "@jupyter-widgets/base",
      "model_module_version": "1.1.0",
      "model_name": "LayoutModel",
      "state": {
       "width": "40%"
      }
     },
     "15e3485c58db49ba85c3aac5e5cadbc0": {
      "model_module": "@jupyter-widgets/controls",
      "model_module_version": "1.4.0",
      "model_name": "IntRangeSliderModel",
      "state": {
       "_model_name": "IntRangeSliderModel",
       "_view_name": "IntRangeSliderView",
       "continuous_update": false,
       "layout": "IPY_MODEL_13fa734356e6401da6e024c48794f8f0",
       "max": 20,
       "min": 1,
       "style": "IPY_MODEL_11bd58a4960e4dd09d81463d4e9a8c24",
       "value": [
        1,
        20
       ]
      }
     },
     "1610f7068ab6422ea4bcee11407dfea1": {
      "model_module": "@jupyter-widgets/base",
      "model_module_version": "1.1.0",
      "model_name": "LayoutModel",
      "state": {}
     },
     "17a36795cacd4421ab7e6c633f9b2c52": {
      "model_module": "@jupyter-widgets/controls",
      "model_module_version": "1.4.0",
      "model_name": "SliderStyleModel",
      "state": {
       "description_width": "initial"
      }
     },
     "17b734ac4b8449919d0ba4a6b4e7a12b": {
      "model_module": "@jupyter-widgets/base",
      "model_module_version": "1.1.0",
      "model_name": "LayoutModel",
      "state": {}
     },
     "18b6c95f352f4d3ea1b1e896b748e7e4": {
      "model_module": "@jupyter-widgets/controls",
      "model_module_version": "1.4.0",
      "model_name": "IntSliderModel",
      "state": {
       "description": "Party Level:",
       "layout": "IPY_MODEL_04e3b741c1c24da5abc7e68a8ff3529b",
       "max": 20,
       "min": 1,
       "style": "IPY_MODEL_2b1416e614d24ca0b65c7cd9dc5df890",
       "value": 1
      }
     },
     "1933b0f656a945c5a67a601dc57a5e6e": {
      "model_module": "@jupyter-widgets/controls",
      "model_module_version": "1.4.0",
      "model_name": "DropdownModel",
      "state": {
       "_options_labels": [
        "Trivial",
        "Low",
        "High",
        "Severe",
        "Extreme"
       ],
       "description": "Encounter Severity: ",
       "index": 2,
       "layout": "IPY_MODEL_f2ad07ee3a264fa799ec48716e1bedad",
       "style": "IPY_MODEL_e7161b919d12435f8715d66fdc069c7c"
      }
     },
     "1ad955d70cae479e88e1a24537f58962": {
      "model_module": "@jupyter-widgets/controls",
      "model_module_version": "1.4.0",
      "model_name": "DropdownModel",
      "state": {
       "_options_labels": [
        "Trivial",
        "Low",
        "High",
        "Severe",
        "Extreme"
       ],
       "description": "Encounter Severity: ",
       "index": 1,
       "layout": "IPY_MODEL_27c3df0420fa4de8a6bbe1396256eb70",
       "style": "IPY_MODEL_4dc62a9744c34737b7c7ab82b614a85d"
      }
     },
     "1af51d4b1b124f5ea3150cb457ad912b": {
      "model_module": "@jupyter-widgets/controls",
      "model_module_version": "1.4.0",
      "model_name": "SliderStyleModel",
      "state": {
       "description_width": ""
      }
     },
     "1bfe2b20ac43421f91b2ff03febe6dad": {
      "model_module": "@jupyter-widgets/controls",
      "model_module_version": "1.4.0",
      "model_name": "IntSliderModel",
      "state": {
       "description": "Party Size:",
       "layout": "IPY_MODEL_3124451f4dce43a4ae4e0277b97c3512",
       "max": 10,
       "style": "IPY_MODEL_676cf1000c2b42da84a4f0e20d60b1e9",
       "value": 4
      }
     },
     "1cf299b24779470ea6e5d0f5a77b4c81": {
      "model_module": "@jupyter-widgets/base",
      "model_module_version": "1.1.0",
      "model_name": "LayoutModel",
      "state": {}
     },
     "1d670879dd4645009ee517738e2bdf7f": {
      "model_module": "@jupyter-widgets/base",
      "model_module_version": "1.1.0",
      "model_name": "LayoutModel",
      "state": {
       "width": "40%"
      }
     },
     "1dd5ce3cf2f24fe18223b28f3a4266a5": {
      "model_module": "@jupyter-widgets/base",
      "model_module_version": "1.1.0",
      "model_name": "LayoutModel",
      "state": {}
     },
     "1e92fb11baae4a4786805dff92bda1c5": {
      "model_module": "@jupyter-widgets/controls",
      "model_module_version": "1.4.0",
      "model_name": "IntRangeSliderModel",
      "state": {
       "_model_name": "IntRangeSliderModel",
       "_view_name": "IntRangeSliderView",
       "continuous_update": false,
       "layout": "IPY_MODEL_0ba5ecb5aa4f4696ab59bcf4a54ce9d0",
       "max": 20,
       "min": 1,
       "style": "IPY_MODEL_04d9428664194466a6d249d677c2c170",
       "value": [
        1,
        20
       ]
      }
     },
     "1f503e27eaa64538af9f097897fe385b": {
      "model_module": "@jupyter-widgets/base",
      "model_module_version": "1.1.0",
      "model_name": "LayoutModel",
      "state": {
       "width": "40%"
      }
     },
     "20f2754c5cb9443a851780912479f8c7": {
      "model_module": "@jupyter-widgets/base",
      "model_module_version": "1.1.0",
      "model_name": "LayoutModel",
      "state": {}
     },
     "2299fc35d0f84ab7aa6a306ffcb49808": {
      "model_module": "@jupyter-widgets/base",
      "model_module_version": "1.1.0",
      "model_name": "LayoutModel",
      "state": {}
     },
     "23165d468fd64f7db9ef91a7768d2cb8": {
      "model_module": "@jupyter-widgets/base",
      "model_module_version": "1.1.0",
      "model_name": "LayoutModel",
      "state": {
       "width": "40%"
      }
     },
     "242521766a48446a987df80d332e9c30": {
      "model_module": "@jupyter-widgets/controls",
      "model_module_version": "1.4.0",
      "model_name": "BoundedIntTextModel",
      "state": {
       "description": "Manual XP Budget (Optional):",
       "layout": "IPY_MODEL_dbb03c32ac334e2cb2e8dedcdde93afc",
       "max": 500,
       "step": 5,
       "style": "IPY_MODEL_559a71dad18b444b8a5c47e2490fd46f"
      }
     },
     "243a9887eaf14954b021237799b40cd0": {
      "model_module": "@jupyter-widgets/controls",
      "model_module_version": "1.4.0",
      "model_name": "DropdownModel",
      "state": {
       "_options_labels": [
        "Trivial",
        "Low",
        "High",
        "Severe",
        "Extreme"
       ],
       "description": "Encounter Severity: ",
       "index": 1,
       "layout": "IPY_MODEL_27b7d4a682e244479410d07e78ba79a7",
       "style": "IPY_MODEL_348aead78ec542019a2142a426734d22"
      }
     },
     "2492f8babbf649a0ab31d11079afd705": {
      "model_module": "@jupyter-widgets/base",
      "model_module_version": "1.1.0",
      "model_name": "LayoutModel",
      "state": {
       "width": "40%"
      }
     },
     "252d07c67017485282b50700beed7791": {
      "model_module": "@jupyter-widgets/base",
      "model_module_version": "1.1.0",
      "model_name": "LayoutModel",
      "state": {}
     },
     "258274122b764292aebc41b7bf405265": {
      "model_module": "@jupyter-widgets/controls",
      "model_module_version": "1.4.0",
      "model_name": "BoundedIntTextModel",
      "state": {
       "description": "Manual XP Budget (Optional):",
       "layout": "IPY_MODEL_1dd5ce3cf2f24fe18223b28f3a4266a5",
       "max": 500,
       "step": 5,
       "style": "IPY_MODEL_2a286b91a67449df89aec49627635f04"
      }
     },
     "261b7a1fcf8e4f379790097dbb5bd915": {
      "model_module": "@jupyter-widgets/controls",
      "model_module_version": "1.4.0",
      "model_name": "DropdownModel",
      "state": {
       "_options_labels": [
        "Trivial",
        "Low",
        "High",
        "Severe",
        "Extreme"
       ],
       "description": "Encounter Severity: ",
       "index": 1,
       "layout": "IPY_MODEL_48ebc45065e7495ea809f90de1400abf",
       "style": "IPY_MODEL_e44e3112fa7244df88a913b20990a841"
      }
     },
     "261c29d6f3854ffb858c5bb436fb0027": {
      "model_module": "@jupyter-widgets/controls",
      "model_module_version": "1.4.0",
      "model_name": "ButtonStyleModel",
      "state": {}
     },
     "2635d54644784ab295b8acb5086fdfa4": {
      "model_module": "@jupyter-widgets/controls",
      "model_module_version": "1.4.0",
      "model_name": "DescriptionStyleModel",
      "state": {
       "description_width": "initial"
      }
     },
     "26f62af0018f41a29af9692f10658289": {
      "model_module": "@jupyter-widgets/controls",
      "model_module_version": "1.4.0",
      "model_name": "SliderStyleModel",
      "state": {
       "description_width": "initial"
      }
     },
     "275416be05224613aa15d33bf5523596": {
      "model_module": "@jupyter-widgets/base",
      "model_module_version": "1.1.0",
      "model_name": "LayoutModel",
      "state": {}
     },
     "27b7d4a682e244479410d07e78ba79a7": {
      "model_module": "@jupyter-widgets/base",
      "model_module_version": "1.1.0",
      "model_name": "LayoutModel",
      "state": {}
     },
     "27c3df0420fa4de8a6bbe1396256eb70": {
      "model_module": "@jupyter-widgets/base",
      "model_module_version": "1.1.0",
      "model_name": "LayoutModel",
      "state": {}
     },
     "28022aff4b4c4764a9c5aeacd5238491": {
      "model_module": "@jupyter-widgets/controls",
      "model_module_version": "1.4.0",
      "model_name": "ButtonStyleModel",
      "state": {}
     },
     "2a04663f1c7d47bd9cc24b46a7fcbbe3": {
      "model_module": "@jupyter-widgets/controls",
      "model_module_version": "1.4.0",
      "model_name": "SliderStyleModel",
      "state": {
       "description_width": ""
      }
     },
     "2a286b91a67449df89aec49627635f04": {
      "model_module": "@jupyter-widgets/controls",
      "model_module_version": "1.4.0",
      "model_name": "DescriptionStyleModel",
      "state": {
       "description_width": "initial"
      }
     },
     "2b1416e614d24ca0b65c7cd9dc5df890": {
      "model_module": "@jupyter-widgets/controls",
      "model_module_version": "1.4.0",
      "model_name": "SliderStyleModel",
      "state": {
       "description_width": "initial"
      }
     },
     "2bb69c4e3b704b7a93b1d641ed8f6ab0": {
      "model_module": "@jupyter-widgets/controls",
      "model_module_version": "1.4.0",
      "model_name": "ButtonStyleModel",
      "state": {}
     },
     "2beac3170e974e4c8a18ed29fdd3bece": {
      "model_module": "@jupyter-widgets/base",
      "model_module_version": "1.1.0",
      "model_name": "LayoutModel",
      "state": {}
     },
     "2ce63f71de294bf5bba03b2cbe87c4a9": {
      "model_module": "@jupyter-widgets/controls",
      "model_module_version": "1.4.0",
      "model_name": "IntSliderModel",
      "state": {
       "description": "Party Level:",
       "layout": "IPY_MODEL_8df222cfbdec45a6a3336172c13b4f81",
       "max": 20,
       "min": 1,
       "style": "IPY_MODEL_9ee6ce160bcd47d5a5218d5af0cc0cc2",
       "value": 1
      }
     },
     "2e85a8a9c3d3489d9bf96c9664f69d08": {
      "model_module": "@jupyter-widgets/controls",
      "model_module_version": "1.4.0",
      "model_name": "ButtonModel",
      "state": {
       "description": "Build Encounters!",
       "layout": "IPY_MODEL_5d03cb4494404b69ac4cd2e1746da3a6",
       "style": "IPY_MODEL_891c741375164cff8cacda7688ca2fca"
      }
     },
     "2eb0918170ee4279ac8cebfd50fc6b00": {
      "model_module": "@jupyter-widgets/controls",
      "model_module_version": "1.4.0",
      "model_name": "BoundedIntTextModel",
      "state": {
       "description": "Manual XP Budget (Optional):",
       "layout": "IPY_MODEL_6f2cd5856ee645a6a2442c4381386069",
       "max": 500,
       "step": 5,
       "style": "IPY_MODEL_3bc103cd2e024bbc8e14264b78aa47e0"
      }
     },
     "2ee44591864d41ff85dbae6ca4a4273b": {
      "model_module": "@jupyter-widgets/controls",
      "model_module_version": "1.4.0",
      "model_name": "SliderStyleModel",
      "state": {
       "description_width": ""
      }
     },
     "3124451f4dce43a4ae4e0277b97c3512": {
      "model_module": "@jupyter-widgets/base",
      "model_module_version": "1.1.0",
      "model_name": "LayoutModel",
      "state": {
       "width": "40%"
      }
     },
     "3193142547df4c61a44ae17ff6bbcd32": {
      "model_module": "@jupyter-widgets/base",
      "model_module_version": "1.1.0",
      "model_name": "LayoutModel",
      "state": {
       "width": "40%"
      }
     },
     "319e5f5a936a48d991241617b4612a5a": {
      "model_module": "@jupyter-widgets/controls",
      "model_module_version": "1.4.0",
      "model_name": "DescriptionStyleModel",
      "state": {
       "description_width": "initial"
      }
     },
     "31d863c700a44be5a29f6cf295eb2440": {
      "model_module": "@jupyter-widgets/controls",
      "model_module_version": "1.4.0",
      "model_name": "SliderStyleModel",
      "state": {
       "description_width": ""
      }
     },
     "326c1eb2e6f74633861e20009d697ad8": {
      "model_module": "@jupyter-widgets/base",
      "model_module_version": "1.1.0",
      "model_name": "LayoutModel",
      "state": {}
     },
     "32dd3c53c6b143a493ec7f3d9d39a8db": {
      "model_module": "@jupyter-widgets/base",
      "model_module_version": "1.1.0",
      "model_name": "LayoutModel",
      "state": {}
     },
     "33929561649a4c56844fb8fbfc306db6": {
      "model_module": "@jupyter-widgets/controls",
      "model_module_version": "1.4.0",
      "model_name": "DescriptionStyleModel",
      "state": {
       "description_width": "initial"
      }
     },
     "348aead78ec542019a2142a426734d22": {
      "model_module": "@jupyter-widgets/controls",
      "model_module_version": "1.4.0",
      "model_name": "DescriptionStyleModel",
      "state": {
       "description_width": "initial"
      }
     },
     "348d81bfb3384464b5edf3d0c1f5e7ce": {
      "model_module": "@jupyter-widgets/controls",
      "model_module_version": "1.4.0",
      "model_name": "SliderStyleModel",
      "state": {
       "description_width": "initial"
      }
     },
     "34c21e16588841019cc729e599b966fc": {
      "model_module": "@jupyter-widgets/controls",
      "model_module_version": "1.4.0",
      "model_name": "IntSliderModel",
      "state": {
       "description": "Party Size:",
       "layout": "IPY_MODEL_c2120346416f44cdae6557d855d6810f",
       "max": 10,
       "style": "IPY_MODEL_4ed53189d596452ba6db73f1669f293c",
       "value": 4
      }
     },
     "350da42e1e944da5b97b7ea8b10af6e7": {
      "model_module": "@jupyter-widgets/controls",
      "model_module_version": "1.4.0",
      "model_name": "IntSliderModel",
      "state": {
       "description": "Party Level:",
       "layout": "IPY_MODEL_d4b512beb4e7479cbb47249b0cf4a08e",
       "max": 20,
       "min": 1,
       "style": "IPY_MODEL_348d81bfb3384464b5edf3d0c1f5e7ce",
       "value": 1
      }
     },
     "36667ab8002442cba6750b7b616ef5e1": {
      "model_module": "@jupyter-widgets/controls",
      "model_module_version": "1.4.0",
      "model_name": "IntRangeSliderModel",
      "state": {
       "_model_name": "IntRangeSliderModel",
       "_view_name": "IntRangeSliderView",
       "continuous_update": false,
       "layout": "IPY_MODEL_64e71aceb99e4d288bc8423ed645b6ef",
       "max": 20,
       "min": 1,
       "style": "IPY_MODEL_07f27acc3af649948ec506d8fa80d09e",
       "value": [
        1,
        20
       ]
      }
     },
     "370dcd679c294b32a56e4f68f09c8bd1": {
      "model_module": "@jupyter-widgets/base",
      "model_module_version": "1.1.0",
      "model_name": "LayoutModel",
      "state": {}
     },
     "37193ca5f86c4c96bffd6635f7d42f9b": {
      "model_module": "@jupyter-widgets/controls",
      "model_module_version": "1.4.0",
      "model_name": "ButtonModel",
      "state": {
       "description": "Build Encounters!",
       "layout": "IPY_MODEL_20f2754c5cb9443a851780912479f8c7",
       "style": "IPY_MODEL_0d1b5fcbd7814ca4b73cf77aea9f4419"
      }
     },
     "378b34a6519e4a7dae9d18504ce116ad": {
      "model_module": "@jupyter-widgets/controls",
      "model_module_version": "1.4.0",
      "model_name": "SliderStyleModel",
      "state": {
       "description_width": "initial"
      }
     },
     "3850588c32f6472f8394e3e9d7a59c02": {
      "model_module": "@jupyter-widgets/controls",
      "model_module_version": "1.4.0",
      "model_name": "IntSliderModel",
      "state": {
       "description": "Party Size:",
       "layout": "IPY_MODEL_23165d468fd64f7db9ef91a7768d2cb8",
       "max": 10,
       "style": "IPY_MODEL_17a36795cacd4421ab7e6c633f9b2c52",
       "value": 4
      }
     },
     "3851288df4e34332b94ef6b0f121062c": {
      "model_module": "@jupyter-widgets/base",
      "model_module_version": "1.1.0",
      "model_name": "LayoutModel",
      "state": {
       "width": "40%"
      }
     },
     "3ac2525f3000443aa4c2401708622a9d": {
      "model_module": "@jupyter-widgets/controls",
      "model_module_version": "1.4.0",
      "model_name": "ButtonModel",
      "state": {
       "description": "Build Encounters!",
       "layout": "IPY_MODEL_bbfe9453f810416590e873566b040e07",
       "style": "IPY_MODEL_0ef2052529164693b5865dfb35d251f2"
      }
     },
     "3b684e2277de4319841e750bc5d2f979": {
      "model_module": "@jupyter-widgets/base",
      "model_module_version": "1.1.0",
      "model_name": "LayoutModel",
      "state": {
       "width": "40%"
      }
     },
     "3b9105d11a2d44d38ca00d48f4269c1b": {
      "model_module": "@jupyter-widgets/controls",
      "model_module_version": "1.4.0",
      "model_name": "IntSliderModel",
      "state": {
       "description": "Party Level:",
       "layout": "IPY_MODEL_47ce1c399e5b4e9d8446a9c4a8fe8c0d",
       "max": 20,
       "min": 1,
       "style": "IPY_MODEL_b3548954e4db4808894261c7993f0b26",
       "value": 1
      }
     },
     "3bc103cd2e024bbc8e14264b78aa47e0": {
      "model_module": "@jupyter-widgets/controls",
      "model_module_version": "1.4.0",
      "model_name": "DescriptionStyleModel",
      "state": {
       "description_width": "initial"
      }
     },
     "3be391c3cb6f4632b47bc6018ba2d3c9": {
      "model_module": "@jupyter-widgets/base",
      "model_module_version": "1.1.0",
      "model_name": "LayoutModel",
      "state": {}
     },
     "3cc1215aa2594391a856571d2f6010a0": {
      "model_module": "@jupyter-widgets/controls",
      "model_module_version": "1.4.0",
      "model_name": "IntSliderModel",
      "state": {
       "description": "Party Level:",
       "layout": "IPY_MODEL_cb8ec13386534f808e4bc98727bc3405",
       "max": 20,
       "min": 1,
       "style": "IPY_MODEL_98381c9e25864c10b08be543c1e8df07",
       "value": 1
      }
     },
     "3e8f077062ce48809eadeb88515a19e7": {
      "model_module": "@jupyter-widgets/controls",
      "model_module_version": "1.4.0",
      "model_name": "SliderStyleModel",
      "state": {
       "description_width": "initial"
      }
     },
     "3f74072faa074b99a50f8e891f8f2609": {
      "model_module": "@jupyter-widgets/base",
      "model_module_version": "1.1.0",
      "model_name": "LayoutModel",
      "state": {}
     },
     "418c11b2db34462b8497c409c8e7a834": {
      "model_module": "@jupyter-widgets/controls",
      "model_module_version": "1.4.0",
      "model_name": "IntSliderModel",
      "state": {
       "description": "Party Level:",
       "layout": "IPY_MODEL_1d670879dd4645009ee517738e2bdf7f",
       "max": 20,
       "min": 1,
       "style": "IPY_MODEL_640e19c033ab4ddba4bea741b1b8bcf4",
       "value": 1
      }
     },
     "422180dc81844047810737b1aa488369": {
      "model_module": "@jupyter-widgets/base",
      "model_module_version": "1.1.0",
      "model_name": "LayoutModel",
      "state": {}
     },
     "4464e81a63f344ca828ece6519fb75cc": {
      "model_module": "@jupyter-widgets/controls",
      "model_module_version": "1.4.0",
      "model_name": "IntSliderModel",
      "state": {
       "description": "Party Level:",
       "layout": "IPY_MODEL_75478a218f0b4ef2bd589d80bf579850",
       "max": 20,
       "min": 1,
       "style": "IPY_MODEL_c71e11fc04fe4b6380a6d3e344c0f904",
       "value": 1
      }
     },
     "46961ef4af974b6eabeb9c991a2899c3": {
      "model_module": "@jupyter-widgets/base",
      "model_module_version": "1.1.0",
      "model_name": "LayoutModel",
      "state": {
       "width": "40%"
      }
     },
     "470b133561cd4efdb826f1c4fb5bbd86": {
      "model_module": "@jupyter-widgets/controls",
      "model_module_version": "1.4.0",
      "model_name": "IntSliderModel",
      "state": {
       "description": "Party Size:",
       "layout": "IPY_MODEL_7e583ef950844eae84678898c580c0db",
       "max": 10,
       "style": "IPY_MODEL_96efab0f33e646a7b97b1c421bde18ab",
       "value": 4
      }
     },
     "47ce1c399e5b4e9d8446a9c4a8fe8c0d": {
      "model_module": "@jupyter-widgets/base",
      "model_module_version": "1.1.0",
      "model_name": "LayoutModel",
      "state": {
       "width": "40%"
      }
     },
     "48ebc45065e7495ea809f90de1400abf": {
      "model_module": "@jupyter-widgets/base",
      "model_module_version": "1.1.0",
      "model_name": "LayoutModel",
      "state": {}
     },
     "4ae22afe800c4820afb6136bcabefa08": {
      "model_module": "@jupyter-widgets/controls",
      "model_module_version": "1.4.0",
      "model_name": "IntRangeSliderModel",
      "state": {
       "_model_name": "IntRangeSliderModel",
       "_view_name": "IntRangeSliderView",
       "continuous_update": false,
       "layout": "IPY_MODEL_b7557c39866944e69896ba2c0e7ba919",
       "max": 20,
       "min": 1,
       "style": "IPY_MODEL_104c20ab7f34416b8827303f29c8d3bd",
       "value": [
        1,
        20
       ]
      }
     },
     "4bb137cb938b4b779932a424b3cf4ada": {
      "model_module": "@jupyter-widgets/controls",
      "model_module_version": "1.4.0",
      "model_name": "SliderStyleModel",
      "state": {
       "description_width": "initial"
      }
     },
     "4dc62a9744c34737b7c7ab82b614a85d": {
      "model_module": "@jupyter-widgets/controls",
      "model_module_version": "1.4.0",
      "model_name": "DescriptionStyleModel",
      "state": {
       "description_width": "initial"
      }
     },
     "4e3e224e9488469bb7cb7593b7edeed4": {
      "model_module": "@jupyter-widgets/controls",
      "model_module_version": "1.4.0",
      "model_name": "DescriptionStyleModel",
      "state": {
       "description_width": "initial"
      }
     },
     "4eb4fce20d15457390d58882caf852ba": {
      "model_module": "@jupyter-widgets/controls",
      "model_module_version": "1.4.0",
      "model_name": "DescriptionStyleModel",
      "state": {
       "description_width": "initial"
      }
     },
     "4ed53189d596452ba6db73f1669f293c": {
      "model_module": "@jupyter-widgets/controls",
      "model_module_version": "1.4.0",
      "model_name": "SliderStyleModel",
      "state": {
       "description_width": "initial"
      }
     },
     "4fab6b005f5e4d8781cb50e36da6884f": {
      "model_module": "@jupyter-widgets/controls",
      "model_module_version": "1.4.0",
      "model_name": "DropdownModel",
      "state": {
       "_options_labels": [
        "Trivial",
        "Low",
        "High",
        "Severe",
        "Extreme"
       ],
       "description": "Encounter Severity: ",
       "index": 1,
       "layout": "IPY_MODEL_6352cf5823b4487dbed8d62c6e802a95",
       "style": "IPY_MODEL_b109da4b73d1423c8143529ec0e33e95"
      }
     },
     "52619821720b445bae2e5a8035b096c8": {
      "model_module": "@jupyter-widgets/controls",
      "model_module_version": "1.4.0",
      "model_name": "IntSliderModel",
      "state": {
       "description": "Party Size:",
       "layout": "IPY_MODEL_71e4223e7aa044dc815d22c252c13a2e",
       "max": 10,
       "style": "IPY_MODEL_ac1bc3a4b8e7435689db95d673cb7cef",
       "value": 4
      }
     },
     "5339f6c4c08945818434bfba4512b4af": {
      "model_module": "@jupyter-widgets/controls",
      "model_module_version": "1.4.0",
      "model_name": "IntSliderModel",
      "state": {
       "description": "Party Size:",
       "layout": "IPY_MODEL_790df46cabcf45e0b683343d9e8dfd46",
       "max": 10,
       "style": "IPY_MODEL_0d05cf2d78b749b49553a5888a453bc6",
       "value": 4
      }
     },
     "54f3a8b199e44e889850c2f05aca2882": {
      "model_module": "@jupyter-widgets/controls",
      "model_module_version": "1.4.0",
      "model_name": "SliderStyleModel",
      "state": {
       "description_width": "initial"
      }
     },
     "557bd550f6c547d1aa5f9af28b378162": {
      "model_module": "@jupyter-widgets/controls",
      "model_module_version": "1.4.0",
      "model_name": "IntSliderModel",
      "state": {
       "description": "Party Level:",
       "layout": "IPY_MODEL_d58bcc102555476397ab0d2278e0846c",
       "max": 20,
       "min": 1,
       "style": "IPY_MODEL_684985cd5e754c83bf752b5b60d671af",
       "value": 1
      }
     },
     "559a71dad18b444b8a5c47e2490fd46f": {
      "model_module": "@jupyter-widgets/controls",
      "model_module_version": "1.4.0",
      "model_name": "DescriptionStyleModel",
      "state": {
       "description_width": "initial"
      }
     },
     "56abd68cb86743da8d20ee0918971ac8": {
      "model_module": "@jupyter-widgets/base",
      "model_module_version": "1.1.0",
      "model_name": "LayoutModel",
      "state": {
       "width": "40%"
      }
     },
     "591daff48ffc4945bebc1348c406819c": {
      "model_module": "@jupyter-widgets/base",
      "model_module_version": "1.1.0",
      "model_name": "LayoutModel",
      "state": {}
     },
     "59921c6b93c5410596930c1c0aa5027a": {
      "model_module": "@jupyter-widgets/controls",
      "model_module_version": "1.4.0",
      "model_name": "IntRangeSliderModel",
      "state": {
       "_model_name": "IntRangeSliderModel",
       "_view_name": "IntRangeSliderView",
       "continuous_update": false,
       "layout": "IPY_MODEL_ade440378eeb4a2686e2345bec51e3cd",
       "max": 20,
       "min": 1,
       "style": "IPY_MODEL_9e0f47d3faf943d09db89919e6c751ae",
       "value": [
        1,
        20
       ]
      }
     },
     "59e1846fafe54cf8afc1f4ee6ed016cb": {
      "model_module": "@jupyter-widgets/controls",
      "model_module_version": "1.4.0",
      "model_name": "IntSliderModel",
      "state": {
       "description": "Party Level:",
       "layout": "IPY_MODEL_00b62b085a2f47cfa83a5a21f2f65117",
       "max": 20,
       "min": 1,
       "style": "IPY_MODEL_fe1d4437bd7b4f59a3ddf87b00a9b399",
       "value": 1
      }
     },
     "5aeeabc1343d41f7857827a0f62aa5e1": {
      "model_module": "@jupyter-widgets/base",
      "model_module_version": "1.1.0",
      "model_name": "LayoutModel",
      "state": {
       "width": "40%"
      }
     },
     "5b20d8f3d3e4440783625ed8aca47f84": {
      "model_module": "@jupyter-widgets/controls",
      "model_module_version": "1.4.0",
      "model_name": "DescriptionStyleModel",
      "state": {
       "description_width": "initial"
      }
     },
     "5cbb8321d2854f6eb68b46dd09e6c7c0": {
      "model_module": "@jupyter-widgets/controls",
      "model_module_version": "1.4.0",
      "model_name": "ButtonModel",
      "state": {
       "description": "Build Encounters!",
       "layout": "IPY_MODEL_591daff48ffc4945bebc1348c406819c",
       "style": "IPY_MODEL_cb9e2edf229a441a826d11fe6f414905"
      }
     },
     "5d03cb4494404b69ac4cd2e1746da3a6": {
      "model_module": "@jupyter-widgets/base",
      "model_module_version": "1.1.0",
      "model_name": "LayoutModel",
      "state": {}
     },
     "5da55a4da931427c809362a0c66433c9": {
      "model_module": "@jupyter-widgets/controls",
      "model_module_version": "1.4.0",
      "model_name": "SliderStyleModel",
      "state": {
       "description_width": ""
      }
     },
     "5f3221ead58f47b390210735e68398b7": {
      "model_module": "@jupyter-widgets/controls",
      "model_module_version": "1.4.0",
      "model_name": "ButtonModel",
      "state": {
       "description": "Build Encounters!",
       "layout": "IPY_MODEL_ec4618f5df1f4381bb4884c55fedbd6a",
       "style": "IPY_MODEL_91a5be8c27454edfa4578c0ac6daa23c"
      }
     },
     "606e254eff084908946062f893b0bee4": {
      "model_module": "@jupyter-widgets/controls",
      "model_module_version": "1.4.0",
      "model_name": "ButtonModel",
      "state": {
       "description": "Build Encounters!",
       "layout": "IPY_MODEL_ea0ff3b0c7b24cc4b8b208b3e549a368",
       "style": "IPY_MODEL_8d5e0d3970194be1949679bcfcb57a68"
      }
     },
     "60f86d5e98324db4b056016bcec391d9": {
      "model_module": "@jupyter-widgets/controls",
      "model_module_version": "1.4.0",
      "model_name": "ButtonModel",
      "state": {
       "description": "Build Encounters!",
       "layout": "IPY_MODEL_422180dc81844047810737b1aa488369",
       "style": "IPY_MODEL_b71327a7fa2245d59868827286c89170"
      }
     },
     "6150d14e11b745f1860a870413dba074": {
      "model_module": "@jupyter-widgets/controls",
      "model_module_version": "1.4.0",
      "model_name": "BoundedIntTextModel",
      "state": {
       "description": "Manual XP Budget (Optional):",
       "layout": "IPY_MODEL_17b734ac4b8449919d0ba4a6b4e7a12b",
       "max": 500,
       "step": 5,
       "style": "IPY_MODEL_97e2a2bb156b4c1e97d52500945ed7f7"
      }
     },
     "61829d872dc04c3e8707081d1e309979": {
      "model_module": "@jupyter-widgets/controls",
      "model_module_version": "1.4.0",
      "model_name": "IntSliderModel",
      "state": {
       "description": "Party Level:",
       "layout": "IPY_MODEL_76e98e8a621a4ed6bc06659dce1e46a9",
       "max": 20,
       "min": 1,
       "style": "IPY_MODEL_ccc62d90f4e143ef859d7968efac201f",
       "value": 1
      }
     },
     "61a631094ee44d1dbfc85bff277b1b8b": {
      "model_module": "@jupyter-widgets/controls",
      "model_module_version": "1.4.0",
      "model_name": "IntSliderModel",
      "state": {
       "description": "Party Level:",
       "layout": "IPY_MODEL_5aeeabc1343d41f7857827a0f62aa5e1",
       "max": 20,
       "min": 1,
       "style": "IPY_MODEL_034b4228efa046fc826262cf7a2625b4",
       "value": 1
      }
     },
     "61f84594bf634a5487a050bcb3fff77a": {
      "model_module": "@jupyter-widgets/controls",
      "model_module_version": "1.4.0",
      "model_name": "ButtonModel",
      "state": {
       "description": "Build Encounters!",
       "layout": "IPY_MODEL_6e1a94e9ee234ac2a1f415629d21662c",
       "style": "IPY_MODEL_901c995eb3174bd4bd8041ad88e2d42a"
      }
     },
     "6352cf5823b4487dbed8d62c6e802a95": {
      "model_module": "@jupyter-widgets/base",
      "model_module_version": "1.1.0",
      "model_name": "LayoutModel",
      "state": {}
     },
     "63ae59018dc94fd584f5dbfb3766ca73": {
      "model_module": "@jupyter-widgets/controls",
      "model_module_version": "1.4.0",
      "model_name": "DescriptionStyleModel",
      "state": {
       "description_width": "initial"
      }
     },
     "640e19c033ab4ddba4bea741b1b8bcf4": {
      "model_module": "@jupyter-widgets/controls",
      "model_module_version": "1.4.0",
      "model_name": "SliderStyleModel",
      "state": {
       "description_width": "initial"
      }
     },
     "64770b439f4846fca84e57f2ac86fe3c": {
      "model_module": "@jupyter-widgets/controls",
      "model_module_version": "1.4.0",
      "model_name": "IntSliderModel",
      "state": {
       "description": "Party Size:",
       "layout": "IPY_MODEL_e0cf59b0d6b14dfda22194119b3db865",
       "max": 10,
       "style": "IPY_MODEL_ef5d2e89ed39450b9c7be9dbb0bed2b4",
       "value": 4
      }
     },
     "64c1b1fac98044ee84b904e20a31c773": {
      "model_module": "@jupyter-widgets/base",
      "model_module_version": "1.1.0",
      "model_name": "LayoutModel",
      "state": {}
     },
     "64e71aceb99e4d288bc8423ed645b6ef": {
      "model_module": "@jupyter-widgets/base",
      "model_module_version": "1.1.0",
      "model_name": "LayoutModel",
      "state": {
       "width": "40%"
      }
     },
     "65e2fb6669bd43e6940bebc608f3465c": {
      "model_module": "@jupyter-widgets/controls",
      "model_module_version": "1.4.0",
      "model_name": "DropdownModel",
      "state": {
       "_options_labels": [
        "Trivial",
        "Low",
        "High",
        "Severe",
        "Extreme"
       ],
       "description": "Encounter Severity: ",
       "index": 1,
       "layout": "IPY_MODEL_137abf485fbf4851a67e29ab54fab8f4",
       "style": "IPY_MODEL_685525e0a1f943198f53997e543c2057"
      }
     },
     "676cf1000c2b42da84a4f0e20d60b1e9": {
      "model_module": "@jupyter-widgets/controls",
      "model_module_version": "1.4.0",
      "model_name": "SliderStyleModel",
      "state": {
       "description_width": "initial"
      }
     },
     "67edb82baa9346a9aa2beb01a64e28bc": {
      "model_module": "@jupyter-widgets/base",
      "model_module_version": "1.1.0",
      "model_name": "LayoutModel",
      "state": {}
     },
     "684985cd5e754c83bf752b5b60d671af": {
      "model_module": "@jupyter-widgets/controls",
      "model_module_version": "1.4.0",
      "model_name": "SliderStyleModel",
      "state": {
       "description_width": "initial"
      }
     },
     "685525e0a1f943198f53997e543c2057": {
      "model_module": "@jupyter-widgets/controls",
      "model_module_version": "1.4.0",
      "model_name": "DescriptionStyleModel",
      "state": {
       "description_width": "initial"
      }
     },
     "69e270b95d9d4899bbf005f1322dcada": {
      "model_module": "@jupyter-widgets/controls",
      "model_module_version": "1.4.0",
      "model_name": "DropdownModel",
      "state": {
       "_options_labels": [
        "Trivial",
        "Low",
        "High",
        "Severe",
        "Extreme"
       ],
       "description": "Encounter Severity: ",
       "index": 1,
       "layout": "IPY_MODEL_dba6c1e2899d48e3b19f84ffef9dcf8c",
       "style": "IPY_MODEL_33929561649a4c56844fb8fbfc306db6"
      }
     },
     "6aa7e815866a462793a44f8beb0b3ef2": {
      "model_module": "@jupyter-widgets/controls",
      "model_module_version": "1.4.0",
      "model_name": "IntSliderModel",
      "state": {
       "description": "Party Level:",
       "layout": "IPY_MODEL_3851288df4e34332b94ef6b0f121062c",
       "max": 20,
       "min": 1,
       "style": "IPY_MODEL_c9664ad4c5e94b06a9b76a2aa5290930",
       "value": 1
      }
     },
     "6b0f52282f0c493682c2013c0a844d37": {
      "model_module": "@jupyter-widgets/base",
      "model_module_version": "1.1.0",
      "model_name": "LayoutModel",
      "state": {
       "width": "40%"
      }
     },
     "6e1a94e9ee234ac2a1f415629d21662c": {
      "model_module": "@jupyter-widgets/base",
      "model_module_version": "1.1.0",
      "model_name": "LayoutModel",
      "state": {}
     },
     "6e38984049304442aa92f53241845b8d": {
      "model_module": "@jupyter-widgets/controls",
      "model_module_version": "1.4.0",
      "model_name": "ButtonModel",
      "state": {
       "description": "Build Encounters!",
       "layout": "IPY_MODEL_a7ce891be8d2408eae853e6c96f15d76",
       "style": "IPY_MODEL_2bb69c4e3b704b7a93b1d641ed8f6ab0"
      }
     },
     "6e7b2cf673de45f2bcdaba0a0f8d9951": {
      "model_module": "@jupyter-widgets/base",
      "model_module_version": "1.1.0",
      "model_name": "LayoutModel",
      "state": {
       "width": "40%"
      }
     },
     "6f2cd5856ee645a6a2442c4381386069": {
      "model_module": "@jupyter-widgets/base",
      "model_module_version": "1.1.0",
      "model_name": "LayoutModel",
      "state": {}
     },
     "715b94d2190146adb9ad98baae43d5f1": {
      "model_module": "@jupyter-widgets/controls",
      "model_module_version": "1.4.0",
      "model_name": "SliderStyleModel",
      "state": {
       "description_width": "initial"
      }
     },
     "718a25f30f0e4128b50f7418ffd840ac": {
      "model_module": "@jupyter-widgets/base",
      "model_module_version": "1.1.0",
      "model_name": "LayoutModel",
      "state": {
       "width": "40%"
      }
     },
     "71e4223e7aa044dc815d22c252c13a2e": {
      "model_module": "@jupyter-widgets/base",
      "model_module_version": "1.1.0",
      "model_name": "LayoutModel",
      "state": {
       "width": "40%"
      }
     },
     "75478a218f0b4ef2bd589d80bf579850": {
      "model_module": "@jupyter-widgets/base",
      "model_module_version": "1.1.0",
      "model_name": "LayoutModel",
      "state": {
       "width": "40%"
      }
     },
     "769a93f568834cefb966a11e9c595043": {
      "model_module": "@jupyter-widgets/controls",
      "model_module_version": "1.4.0",
      "model_name": "SliderStyleModel",
      "state": {
       "description_width": "initial"
      }
     },
     "76c93868af814a31a127c5d7f3f373c8": {
      "model_module": "@jupyter-widgets/controls",
      "model_module_version": "1.4.0",
      "model_name": "BoundedIntTextModel",
      "state": {
       "description": "Manual XP Budget (Optional):",
       "layout": "IPY_MODEL_cbbf828fcb97476b95893d9e9818c5af",
       "max": 500,
       "step": 5,
       "style": "IPY_MODEL_89c2de2acc6343c2866bb612337ff855"
      }
     },
     "76e98e8a621a4ed6bc06659dce1e46a9": {
      "model_module": "@jupyter-widgets/base",
      "model_module_version": "1.1.0",
      "model_name": "LayoutModel",
      "state": {
       "width": "40%"
      }
     },
     "770604718dea4ffab41762a7fda39b4b": {
      "model_module": "@jupyter-widgets/base",
      "model_module_version": "1.1.0",
      "model_name": "LayoutModel",
      "state": {
       "width": "40%"
      }
     },
     "781408085d8c4a6bbc4084330aaae2e8": {
      "model_module": "@jupyter-widgets/controls",
      "model_module_version": "1.4.0",
      "model_name": "ButtonStyleModel",
      "state": {}
     },
     "784d984589e14ac7b98c020316a5a229": {
      "model_module": "@jupyter-widgets/controls",
      "model_module_version": "1.4.0",
      "model_name": "ButtonModel",
      "state": {
       "description": "Build Encounters!",
       "layout": "IPY_MODEL_ec52dd2c0e0d426a801cd990f42ea511",
       "style": "IPY_MODEL_7fa0417d308749f4bafc5c622b9cb5e9"
      }
     },
     "790df46cabcf45e0b683343d9e8dfd46": {
      "model_module": "@jupyter-widgets/base",
      "model_module_version": "1.1.0",
      "model_name": "LayoutModel",
      "state": {
       "width": "40%"
      }
     },
     "79c27622d21e4d1ba03c6f0824c097e3": {
      "model_module": "@jupyter-widgets/base",
      "model_module_version": "1.1.0",
      "model_name": "LayoutModel",
      "state": {
       "width": "40%"
      }
     },
     "79ca105b657b41c99c2466d6eecb5c56": {
      "model_module": "@jupyter-widgets/base",
      "model_module_version": "1.1.0",
      "model_name": "LayoutModel",
      "state": {
       "width": "40%"
      }
     },
     "7ac4457eb4d1414ba98d58ba0e07868f": {
      "model_module": "@jupyter-widgets/controls",
      "model_module_version": "1.4.0",
      "model_name": "SliderStyleModel",
      "state": {
       "description_width": "initial"
      }
     },
     "7bdd2c5b27934bb3839709790666e2a8": {
      "model_module": "@jupyter-widgets/controls",
      "model_module_version": "1.4.0",
      "model_name": "SliderStyleModel",
      "state": {
       "description_width": ""
      }
     },
     "7ce849beb2564133befda2d113cbeb5a": {
      "model_module": "@jupyter-widgets/controls",
      "model_module_version": "1.4.0",
      "model_name": "ButtonStyleModel",
      "state": {}
     },
     "7e583ef950844eae84678898c580c0db": {
      "model_module": "@jupyter-widgets/base",
      "model_module_version": "1.1.0",
      "model_name": "LayoutModel",
      "state": {
       "width": "40%"
      }
     },
     "7f516f36ca484747b51cc603532ae9af": {
      "model_module": "@jupyter-widgets/base",
      "model_module_version": "1.1.0",
      "model_name": "LayoutModel",
      "state": {
       "width": "40%"
      }
     },
     "7fa0417d308749f4bafc5c622b9cb5e9": {
      "model_module": "@jupyter-widgets/controls",
      "model_module_version": "1.4.0",
      "model_name": "ButtonStyleModel",
      "state": {}
     },
     "7fc6dbc7b1364e8396f435e00ac82434": {
      "model_module": "@jupyter-widgets/base",
      "model_module_version": "1.1.0",
      "model_name": "LayoutModel",
      "state": {}
     },
     "7ff5f3c36eaf4da6b7373de3527595bb": {
      "model_module": "@jupyter-widgets/base",
      "model_module_version": "1.1.0",
      "model_name": "LayoutModel",
      "state": {
       "width": "40%"
      }
     },
     "808ff56f9359488cabd733a934bc2d4c": {
      "model_module": "@jupyter-widgets/base",
      "model_module_version": "1.1.0",
      "model_name": "LayoutModel",
      "state": {}
     },
     "81cc9a1ebced4c60aa4113aad9b7f0b4": {
      "model_module": "@jupyter-widgets/controls",
      "model_module_version": "1.4.0",
      "model_name": "ButtonModel",
      "state": {
       "description": "Build Encounters!",
       "layout": "IPY_MODEL_808ff56f9359488cabd733a934bc2d4c",
       "style": "IPY_MODEL_261c29d6f3854ffb858c5bb436fb0027"
      }
     },
     "8336da05a8484a12b2388a18693ec8fb": {
      "model_module": "@jupyter-widgets/base",
      "model_module_version": "1.1.0",
      "model_name": "LayoutModel",
      "state": {}
     },
     "8394b3acc6344675b325c04c87d9b8de": {
      "model_module": "@jupyter-widgets/base",
      "model_module_version": "1.1.0",
      "model_name": "LayoutModel",
      "state": {}
     },
     "8404eaa0974448568b408d57936cdaed": {
      "model_module": "@jupyter-widgets/controls",
      "model_module_version": "1.4.0",
      "model_name": "SliderStyleModel",
      "state": {
       "description_width": ""
      }
     },
     "8475170a6e5545efb30fff03e7bf0932": {
      "model_module": "@jupyter-widgets/base",
      "model_module_version": "1.1.0",
      "model_name": "LayoutModel",
      "state": {
       "width": "40%"
      }
     },
     "84a862dcfead41e09497b2ced4eabb40": {
      "model_module": "@jupyter-widgets/controls",
      "model_module_version": "1.4.0",
      "model_name": "BoundedIntTextModel",
      "state": {
       "description": "Manual XP Budget (Optional):",
       "layout": "IPY_MODEL_2299fc35d0f84ab7aa6a306ffcb49808",
       "max": 500,
       "step": 5,
       "style": "IPY_MODEL_5b20d8f3d3e4440783625ed8aca47f84"
      }
     },
     "85f70d53c7114e7bb3b1ac9184eded00": {
      "model_module": "@jupyter-widgets/controls",
      "model_module_version": "1.4.0",
      "model_name": "DescriptionStyleModel",
      "state": {
       "description_width": "initial"
      }
     },
     "87f31de21a3648baa8b86cd494f6a1ee": {
      "model_module": "@jupyter-widgets/controls",
      "model_module_version": "1.4.0",
      "model_name": "IntSliderModel",
      "state": {
       "description": "Party Level:",
       "layout": "IPY_MODEL_d24bd7bde91241469d73b93abb8fd9d5",
       "max": 20,
       "min": 1,
       "style": "IPY_MODEL_4bb137cb938b4b779932a424b3cf4ada",
       "value": 1
      }
     },
     "880a236cecfb467d8cae3e376593d8ff": {
      "model_module": "@jupyter-widgets/controls",
      "model_module_version": "1.4.0",
      "model_name": "SliderStyleModel",
      "state": {
       "description_width": ""
      }
     },
     "88d8a90174104ccc89f76bdf4f97ccaa": {
      "model_module": "@jupyter-widgets/base",
      "model_module_version": "1.1.0",
      "model_name": "LayoutModel",
      "state": {
       "width": "40%"
      }
     },
     "891c741375164cff8cacda7688ca2fca": {
      "model_module": "@jupyter-widgets/controls",
      "model_module_version": "1.4.0",
      "model_name": "ButtonStyleModel",
      "state": {}
     },
     "89c2de2acc6343c2866bb612337ff855": {
      "model_module": "@jupyter-widgets/controls",
      "model_module_version": "1.4.0",
      "model_name": "DescriptionStyleModel",
      "state": {
       "description_width": "initial"
      }
     },
     "8d5e0d3970194be1949679bcfcb57a68": {
      "model_module": "@jupyter-widgets/controls",
      "model_module_version": "1.4.0",
      "model_name": "ButtonStyleModel",
      "state": {}
     },
     "8df222cfbdec45a6a3336172c13b4f81": {
      "model_module": "@jupyter-widgets/base",
      "model_module_version": "1.1.0",
      "model_name": "LayoutModel",
      "state": {
       "width": "40%"
      }
     },
     "8e406bf49273440983c9974288276fdd": {
      "model_module": "@jupyter-widgets/base",
      "model_module_version": "1.1.0",
      "model_name": "LayoutModel",
      "state": {}
     },
     "901c995eb3174bd4bd8041ad88e2d42a": {
      "model_module": "@jupyter-widgets/controls",
      "model_module_version": "1.4.0",
      "model_name": "ButtonStyleModel",
      "state": {}
     },
     "903ebfc41ea84540b26761d73f12487c": {
      "model_module": "@jupyter-widgets/controls",
      "model_module_version": "1.4.0",
      "model_name": "ButtonModel",
      "state": {
       "description": "Build Encounters!",
       "layout": "IPY_MODEL_1610f7068ab6422ea4bcee11407dfea1",
       "style": "IPY_MODEL_d86b4d213f9a4901a3459524953f14dd"
      }
     },
     "90806430ee744737816907315bce5904": {
      "model_module": "@jupyter-widgets/base",
      "model_module_version": "1.1.0",
      "model_name": "LayoutModel",
      "state": {}
     },
     "9154b64f0f364674a50f8f794f5dd8d8": {
      "model_module": "@jupyter-widgets/controls",
      "model_module_version": "1.4.0",
      "model_name": "BoundedIntTextModel",
      "state": {
       "description": "Manual XP Budget (Optional):",
       "layout": "IPY_MODEL_cc2d9362a177460bb390465bbfebe83f",
       "max": 500,
       "step": 5,
       "style": "IPY_MODEL_9815114c605a45b68a509bc6ad9ac9a0"
      }
     },
     "918340445a534c47977102ff528b31f2": {
      "model_module": "@jupyter-widgets/controls",
      "model_module_version": "1.4.0",
      "model_name": "DescriptionStyleModel",
      "state": {
       "description_width": "initial"
      }
     },
     "91920c269c5046f7be53d22b67dd5a9e": {
      "model_module": "@jupyter-widgets/base",
      "model_module_version": "1.1.0",
      "model_name": "LayoutModel",
      "state": {}
     },
     "91a5be8c27454edfa4578c0ac6daa23c": {
      "model_module": "@jupyter-widgets/controls",
      "model_module_version": "1.4.0",
      "model_name": "ButtonStyleModel",
      "state": {}
     },
     "9225397b0278464791e0862298a72819": {
      "model_module": "@jupyter-widgets/controls",
      "model_module_version": "1.4.0",
      "model_name": "DescriptionStyleModel",
      "state": {
       "description_width": "initial"
      }
     },
     "9231bcca121b478fae547b4e7333f3e0": {
      "model_module": "@jupyter-widgets/controls",
      "model_module_version": "1.4.0",
      "model_name": "IntSliderModel",
      "state": {
       "description": "Party Size:",
       "layout": "IPY_MODEL_46961ef4af974b6eabeb9c991a2899c3",
       "max": 10,
       "style": "IPY_MODEL_c5061e5adbe14c3bbf5bbe8a842394d4",
       "value": 4
      }
     },
     "924e8b4364e34740aa66a8dca1aa9396": {
      "model_module": "@jupyter-widgets/base",
      "model_module_version": "1.1.0",
      "model_name": "LayoutModel",
      "state": {}
     },
     "933ac347cf3b496ea285382e47cc2a0e": {
      "model_module": "@jupyter-widgets/controls",
      "model_module_version": "1.4.0",
      "model_name": "DescriptionStyleModel",
      "state": {
       "description_width": "initial"
      }
     },
     "95212c985ac848e2911da11a0b64c13d": {
      "model_module": "@jupyter-widgets/base",
      "model_module_version": "1.1.0",
      "model_name": "LayoutModel",
      "state": {
       "width": "40%"
      }
     },
     "9584b6fd04d9479b90e347b22e1780ca": {
      "model_module": "@jupyter-widgets/controls",
      "model_module_version": "1.4.0",
      "model_name": "SliderStyleModel",
      "state": {
       "description_width": "initial"
      }
     },
     "96693bbb75494d28b3e655ad6e52dd7a": {
      "model_module": "@jupyter-widgets/controls",
      "model_module_version": "1.4.0",
      "model_name": "BoundedIntTextModel",
      "state": {
       "description": "Manual XP Budget (Optional):",
       "layout": "IPY_MODEL_64c1b1fac98044ee84b904e20a31c773",
       "max": 500,
       "step": 5,
       "style": "IPY_MODEL_a80c4479aa344173bc02a031826e497c"
      }
     },
     "96eaf5e8b3804f349a8edbfd0a679ce9": {
      "model_module": "@jupyter-widgets/controls",
      "model_module_version": "1.4.0",
      "model_name": "IntSliderModel",
      "state": {
       "description": "Party Size:",
       "layout": "IPY_MODEL_8475170a6e5545efb30fff03e7bf0932",
       "max": 10,
       "style": "IPY_MODEL_f61df3e3c6dc4ff5a8e1f3dc2fc497c9",
       "value": 4
      }
     },
     "96efab0f33e646a7b97b1c421bde18ab": {
      "model_module": "@jupyter-widgets/controls",
      "model_module_version": "1.4.0",
      "model_name": "SliderStyleModel",
      "state": {
       "description_width": "initial"
      }
     },
     "97319c26a17949ed97113dad90b81cfa": {
      "model_module": "@jupyter-widgets/controls",
      "model_module_version": "1.4.0",
      "model_name": "IntRangeSliderModel",
      "state": {
       "_model_name": "IntRangeSliderModel",
       "_view_name": "IntRangeSliderView",
       "continuous_update": false,
       "layout": "IPY_MODEL_a8fb0bf9789b491894493f5a4c7ec2e7",
       "max": 20,
       "min": 1,
       "style": "IPY_MODEL_ed1a118cc4b44d81872ba23bcc81a240",
       "value": [
        1,
        3
       ]
      }
     },
     "97a1a63276b540859beabf65a8c9cfb9": {
      "model_module": "@jupyter-widgets/controls",
      "model_module_version": "1.4.0",
      "model_name": "IntSliderModel",
      "state": {
       "description": "Party Level:",
       "layout": "IPY_MODEL_1f503e27eaa64538af9f097897fe385b",
       "max": 20,
       "min": 1,
       "style": "IPY_MODEL_9584b6fd04d9479b90e347b22e1780ca",
       "value": 1
      }
     },
     "97e2a2bb156b4c1e97d52500945ed7f7": {
      "model_module": "@jupyter-widgets/controls",
      "model_module_version": "1.4.0",
      "model_name": "DescriptionStyleModel",
      "state": {
       "description_width": "initial"
      }
     },
     "980cc2b6168f4e2295c29b5ae127085d": {
      "model_module": "@jupyter-widgets/controls",
      "model_module_version": "1.4.0",
      "model_name": "IntSliderModel",
      "state": {
       "description": "Party Size:",
       "layout": "IPY_MODEL_e13b597f8329442798be2024e18ec65d",
       "max": 10,
       "style": "IPY_MODEL_769a93f568834cefb966a11e9c595043",
       "value": 4
      }
     },
     "9815114c605a45b68a509bc6ad9ac9a0": {
      "model_module": "@jupyter-widgets/controls",
      "model_module_version": "1.4.0",
      "model_name": "DescriptionStyleModel",
      "state": {
       "description_width": "initial"
      }
     },
     "98381c9e25864c10b08be543c1e8df07": {
      "model_module": "@jupyter-widgets/controls",
      "model_module_version": "1.4.0",
      "model_name": "SliderStyleModel",
      "state": {
       "description_width": "initial"
      }
     },
     "9b927a3c05bc41bdbad83a48a9f72bf7": {
      "model_module": "@jupyter-widgets/controls",
      "model_module_version": "1.4.0",
      "model_name": "IntSliderModel",
      "state": {
       "description": "Party Level:",
       "layout": "IPY_MODEL_6e7b2cf673de45f2bcdaba0a0f8d9951",
       "max": 20,
       "min": 1,
       "style": "IPY_MODEL_074535c5feef4a80ad717a7f64ef6b2a",
       "value": 1
      }
     },
     "9cd838b9fd144e78b62375eded38c3fb": {
      "model_module": "@jupyter-widgets/base",
      "model_module_version": "1.1.0",
      "model_name": "LayoutModel",
      "state": {
       "width": "40%"
      }
     },
     "9e0f47d3faf943d09db89919e6c751ae": {
      "model_module": "@jupyter-widgets/controls",
      "model_module_version": "1.4.0",
      "model_name": "SliderStyleModel",
      "state": {
       "description_width": ""
      }
     },
     "9e4bf565a09c40179b9132c3c6111486": {
      "model_module": "@jupyter-widgets/controls",
      "model_module_version": "1.4.0",
      "model_name": "SliderStyleModel",
      "state": {
       "description_width": "initial"
      }
     },
     "9ee6ce160bcd47d5a5218d5af0cc0cc2": {
      "model_module": "@jupyter-widgets/controls",
      "model_module_version": "1.4.0",
      "model_name": "SliderStyleModel",
      "state": {
       "description_width": "initial"
      }
     },
     "9fd530dfef1044528ecd685d10e809b0": {
      "model_module": "@jupyter-widgets/controls",
      "model_module_version": "1.4.0",
      "model_name": "IntRangeSliderModel",
      "state": {
       "_model_name": "IntRangeSliderModel",
       "_view_name": "IntRangeSliderView",
       "continuous_update": false,
       "layout": "IPY_MODEL_0031038c64504f48a0456e68b6bb22ca",
       "max": 20,
       "min": 1,
       "style": "IPY_MODEL_2a04663f1c7d47bd9cc24b46a7fcbbe3",
       "value": [
        1,
        20
       ]
      }
     },
     "a1534d6249cf4012867d5c0dfc5a7122": {
      "model_module": "@jupyter-widgets/controls",
      "model_module_version": "1.4.0",
      "model_name": "ButtonStyleModel",
      "state": {}
     },
     "a1a5bf0c510f403babfe7cc42f5935f6": {
      "model_module": "@jupyter-widgets/base",
      "model_module_version": "1.1.0",
      "model_name": "LayoutModel",
      "state": {}
     },
     "a221a45ffdd248df8efc09fe12138620": {
      "model_module": "@jupyter-widgets/controls",
      "model_module_version": "1.4.0",
      "model_name": "DropdownModel",
      "state": {
       "_options_labels": [
        "Trivial",
        "Low",
        "High",
        "Severe",
        "Extreme"
       ],
       "description": "Encounter Severity: ",
       "index": 2,
       "layout": "IPY_MODEL_8394b3acc6344675b325c04c87d9b8de",
       "style": "IPY_MODEL_933ac347cf3b496ea285382e47cc2a0e"
      }
     },
     "a27217d1f3a8405cb05c761afd5630f4": {
      "model_module": "@jupyter-widgets/controls",
      "model_module_version": "1.4.0",
      "model_name": "IntSliderModel",
      "state": {
       "description": "Party Level:",
       "layout": "IPY_MODEL_6b0f52282f0c493682c2013c0a844d37",
       "max": 20,
       "min": 1,
       "style": "IPY_MODEL_3e8f077062ce48809eadeb88515a19e7",
       "value": 1
      }
     },
     "a3364c341623419ea7c41a73d231f736": {
      "model_module": "@jupyter-widgets/base",
      "model_module_version": "1.1.0",
      "model_name": "LayoutModel",
      "state": {}
     },
     "a386d0e3dc7b460e99f26685b17f566d": {
      "model_module": "@jupyter-widgets/controls",
      "model_module_version": "1.4.0",
      "model_name": "DropdownModel",
      "state": {
       "_options_labels": [
        "Trivial",
        "Low",
        "High",
        "Severe",
        "Extreme"
       ],
       "description": "Encounter Severity: ",
       "index": 0,
       "layout": "IPY_MODEL_252d07c67017485282b50700beed7791",
       "style": "IPY_MODEL_e293fd32fa83485dba806aee18ece74c"
      }
     },
     "a64d1e41f9ac44e9addd7b76693a4833": {
      "model_module": "@jupyter-widgets/controls",
      "model_module_version": "1.4.0",
      "model_name": "IntSliderModel",
      "state": {
       "description": "Party Size:",
       "layout": "IPY_MODEL_cd5cb1e0f6414862a16f1e939faecbf3",
       "max": 10,
       "style": "IPY_MODEL_54f3a8b199e44e889850c2f05aca2882",
       "value": 4
      }
     },
     "a690b53a19794c31816689eb8d7ee6c7": {
      "model_module": "@jupyter-widgets/controls",
      "model_module_version": "1.4.0",
      "model_name": "DropdownModel",
      "state": {
       "_options_labels": [
        "Trivial",
        "Low",
        "High",
        "Severe",
        "Extreme"
       ],
       "description": "Encounter Severity: ",
       "index": 0,
       "layout": "IPY_MODEL_b8b654c2b4254ac784585aff6bcb588b",
       "style": "IPY_MODEL_e7b26a69e7f747b1b785ebafbf58e2db"
      }
     },
     "a786ed1bc35647faab9eae14e973a846": {
      "model_module": "@jupyter-widgets/controls",
      "model_module_version": "1.4.0",
      "model_name": "DropdownModel",
      "state": {
       "_options_labels": [
        "Trivial",
        "Low",
        "High",
        "Severe",
        "Extreme"
       ],
       "description": "Encounter Severity: ",
       "index": 1,
       "layout": "IPY_MODEL_b8265fed8ef643fbaaeb778a25bafc87",
       "style": "IPY_MODEL_2635d54644784ab295b8acb5086fdfa4"
      }
     },
     "a7ce891be8d2408eae853e6c96f15d76": {
      "model_module": "@jupyter-widgets/base",
      "model_module_version": "1.1.0",
      "model_name": "LayoutModel",
      "state": {}
     },
     "a80c4479aa344173bc02a031826e497c": {
      "model_module": "@jupyter-widgets/controls",
      "model_module_version": "1.4.0",
      "model_name": "DescriptionStyleModel",
      "state": {
       "description_width": "initial"
      }
     },
     "a8fb0bf9789b491894493f5a4c7ec2e7": {
      "model_module": "@jupyter-widgets/base",
      "model_module_version": "1.1.0",
      "model_name": "LayoutModel",
      "state": {
       "width": "40%"
      }
     },
     "a915fddf5c7145a79789d0b2f6af2d27": {
      "model_module": "@jupyter-widgets/controls",
      "model_module_version": "1.4.0",
      "model_name": "IntRangeSliderModel",
      "state": {
       "_model_name": "IntRangeSliderModel",
       "_view_name": "IntRangeSliderView",
       "continuous_update": false,
       "layout": "IPY_MODEL_79c27622d21e4d1ba03c6f0824c097e3",
       "max": 20,
       "min": 1,
       "style": "IPY_MODEL_fa872d178f164240bdf458ece6bfd31e",
       "value": [
        1,
        4
       ]
      }
     },
     "a959b42a15134d89975746e7b622a3c3": {
      "model_module": "@jupyter-widgets/base",
      "model_module_version": "1.1.0",
      "model_name": "LayoutModel",
      "state": {}
     },
     "aa00c927dd2e480eb93b1f7d30848926": {
      "model_module": "@jupyter-widgets/controls",
      "model_module_version": "1.4.0",
      "model_name": "IntRangeSliderModel",
      "state": {
       "_model_name": "IntRangeSliderModel",
       "_view_name": "IntRangeSliderView",
       "continuous_update": false,
       "layout": "IPY_MODEL_deac44970c0440ccb85ff6055238bf5a",
       "max": 20,
       "min": 1,
       "style": "IPY_MODEL_880a236cecfb467d8cae3e376593d8ff",
       "value": [
        1,
        20
       ]
      }
     },
     "ac1bc3a4b8e7435689db95d673cb7cef": {
      "model_module": "@jupyter-widgets/controls",
      "model_module_version": "1.4.0",
      "model_name": "SliderStyleModel",
      "state": {
       "description_width": "initial"
      }
     },
     "ac72c721ce1e4004a0e46f13b76d03a4": {
      "model_module": "@jupyter-widgets/controls",
      "model_module_version": "1.4.0",
      "model_name": "ButtonStyleModel",
      "state": {}
     },
     "ad7e3b0483324aa18cf6a02604164c25": {
      "model_module": "@jupyter-widgets/controls",
      "model_module_version": "1.4.0",
      "model_name": "IntRangeSliderModel",
      "state": {
       "_model_name": "IntRangeSliderModel",
       "_view_name": "IntRangeSliderView",
       "continuous_update": false,
       "layout": "IPY_MODEL_bb3cc348c15b4d719debf1d512d86dcb",
       "max": 20,
       "min": 1,
       "style": "IPY_MODEL_dd5a656089104369b5c58e145b747cf9",
       "value": [
        1,
        3
       ]
      }
     },
     "ade440378eeb4a2686e2345bec51e3cd": {
      "model_module": "@jupyter-widgets/base",
      "model_module_version": "1.1.0",
      "model_name": "LayoutModel",
      "state": {
       "width": "40%"
      }
     },
     "afa5270eb7bc4a8f87b7bbf97a604254": {
      "model_module": "@jupyter-widgets/base",
      "model_module_version": "1.1.0",
      "model_name": "LayoutModel",
      "state": {
       "width": "40%"
      }
     },
     "b0619ac51fcf479b8f96b3689985b5e7": {
      "model_module": "@jupyter-widgets/controls",
      "model_module_version": "1.4.0",
      "model_name": "IntRangeSliderModel",
      "state": {
       "_model_name": "IntRangeSliderModel",
       "_view_name": "IntRangeSliderView",
       "continuous_update": false,
       "layout": "IPY_MODEL_79ca105b657b41c99c2466d6eecb5c56",
       "max": 20,
       "min": 1,
       "style": "IPY_MODEL_31d863c700a44be5a29f6cf295eb2440",
       "value": [
        1,
        20
       ]
      }
     },
     "b089b6756aa346668b0662607a9ff66a": {
      "model_module": "@jupyter-widgets/controls",
      "model_module_version": "1.4.0",
      "model_name": "DescriptionStyleModel",
      "state": {
       "description_width": "initial"
      }
     },
     "b109da4b73d1423c8143529ec0e33e95": {
      "model_module": "@jupyter-widgets/controls",
      "model_module_version": "1.4.0",
      "model_name": "DescriptionStyleModel",
      "state": {
       "description_width": "initial"
      }
     },
     "b1c158c68d0744d88ebd2033ad4c028c": {
      "model_module": "@jupyter-widgets/controls",
      "model_module_version": "1.4.0",
      "model_name": "DescriptionStyleModel",
      "state": {
       "description_width": "initial"
      }
     },
     "b1e031aec53f42ee943036ce5d3d9546": {
      "model_module": "@jupyter-widgets/controls",
      "model_module_version": "1.4.0",
      "model_name": "IntRangeSliderModel",
      "state": {
       "_model_name": "IntRangeSliderModel",
       "_view_name": "IntRangeSliderView",
       "continuous_update": false,
       "layout": "IPY_MODEL_7f516f36ca484747b51cc603532ae9af",
       "max": 20,
       "min": 1,
       "style": "IPY_MODEL_7bdd2c5b27934bb3839709790666e2a8",
       "value": [
        1,
        20
       ]
      }
     },
     "b281b904db5e48aa8bf47c5cc8f87dee": {
      "model_module": "@jupyter-widgets/controls",
      "model_module_version": "1.4.0",
      "model_name": "IntRangeSliderModel",
      "state": {
       "_model_name": "IntRangeSliderModel",
       "_view_name": "IntRangeSliderView",
       "continuous_update": false,
       "layout": "IPY_MODEL_7ff5f3c36eaf4da6b7373de3527595bb",
       "max": 20,
       "min": 1,
       "style": "IPY_MODEL_5da55a4da931427c809362a0c66433c9",
       "value": [
        1,
        20
       ]
      }
     },
     "b2bcc60aad9244179e503dbbe9142f16": {
      "model_module": "@jupyter-widgets/controls",
      "model_module_version": "1.4.0",
      "model_name": "BoundedIntTextModel",
      "state": {
       "description": "Manual XP Budget (Optional):",
       "layout": "IPY_MODEL_8336da05a8484a12b2388a18693ec8fb",
       "max": 500,
       "step": 5,
       "style": "IPY_MODEL_4eb4fce20d15457390d58882caf852ba"
      }
     },
     "b2d2e5aaad194c818d44d3ab3c106c61": {
      "model_module": "@jupyter-widgets/controls",
      "model_module_version": "1.4.0",
      "model_name": "SliderStyleModel",
      "state": {
       "description_width": "initial"
      }
     },
     "b3548954e4db4808894261c7993f0b26": {
      "model_module": "@jupyter-widgets/controls",
      "model_module_version": "1.4.0",
      "model_name": "SliderStyleModel",
      "state": {
       "description_width": "initial"
      }
     },
     "b46eeb20eb354f9a8b64c90d5d23d916": {
      "model_module": "@jupyter-widgets/controls",
      "model_module_version": "1.4.0",
      "model_name": "IntRangeSliderModel",
      "state": {
       "_model_name": "IntRangeSliderModel",
       "_view_name": "IntRangeSliderView",
       "continuous_update": false,
       "layout": "IPY_MODEL_d4c5c9c8d3584a9fbb04ec632bb886d2",
       "max": 20,
       "min": 1,
       "style": "IPY_MODEL_1af51d4b1b124f5ea3150cb457ad912b",
       "value": [
        1,
        20
       ]
      }
     },
     "b5f8bc286b574a0d88c0687d83120984": {
      "model_module": "@jupyter-widgets/base",
      "model_module_version": "1.1.0",
      "model_name": "LayoutModel",
      "state": {
       "width": "40%"
      }
     },
     "b71327a7fa2245d59868827286c89170": {
      "model_module": "@jupyter-widgets/controls",
      "model_module_version": "1.4.0",
      "model_name": "ButtonStyleModel",
      "state": {}
     },
     "b735fa31eb3d44f3be97ebed3c056658": {
      "model_module": "@jupyter-widgets/controls",
      "model_module_version": "1.4.0",
      "model_name": "BoundedIntTextModel",
      "state": {
       "description": "Manual XP Budget (Optional):",
       "layout": "IPY_MODEL_a959b42a15134d89975746e7b622a3c3",
       "max": 500,
       "step": 5,
       "style": "IPY_MODEL_319e5f5a936a48d991241617b4612a5a"
      }
     },
     "b7557c39866944e69896ba2c0e7ba919": {
      "model_module": "@jupyter-widgets/base",
      "model_module_version": "1.1.0",
      "model_name": "LayoutModel",
      "state": {
       "width": "40%"
      }
     },
     "b7f2f56f3bfd44419335b293796ba620": {
      "model_module": "@jupyter-widgets/controls",
      "model_module_version": "1.4.0",
      "model_name": "BoundedIntTextModel",
      "state": {
       "description": "Manual XP Budget (Optional):",
       "layout": "IPY_MODEL_32dd3c53c6b143a493ec7f3d9d39a8db",
       "max": 500,
       "step": 5,
       "style": "IPY_MODEL_c3cdc5b376b74bf3b3e050a1897eaa2c"
      }
     },
     "b8265fed8ef643fbaaeb778a25bafc87": {
      "model_module": "@jupyter-widgets/base",
      "model_module_version": "1.1.0",
      "model_name": "LayoutModel",
      "state": {}
     },
     "b889cad3a47d4d6aab9436e0d9ca280a": {
      "model_module": "@jupyter-widgets/controls",
      "model_module_version": "1.4.0",
      "model_name": "BoundedIntTextModel",
      "state": {
       "description": "Manual XP Budget (Optional):",
       "layout": "IPY_MODEL_3be391c3cb6f4632b47bc6018ba2d3c9",
       "max": 500,
       "step": 5,
       "style": "IPY_MODEL_918340445a534c47977102ff528b31f2"
      }
     },
     "b8b654c2b4254ac784585aff6bcb588b": {
      "model_module": "@jupyter-widgets/base",
      "model_module_version": "1.1.0",
      "model_name": "LayoutModel",
      "state": {}
     },
     "b9b0d513a4a64ec2b78b1cd13a00d32d": {
      "model_module": "@jupyter-widgets/controls",
      "model_module_version": "1.4.0",
      "model_name": "BoundedIntTextModel",
      "state": {
       "description": "Manual XP Budget (Optional):",
       "layout": "IPY_MODEL_a1a5bf0c510f403babfe7cc42f5935f6",
       "max": 500,
       "step": 5,
       "style": "IPY_MODEL_85f70d53c7114e7bb3b1ac9184eded00"
      }
     },
     "bb3cc348c15b4d719debf1d512d86dcb": {
      "model_module": "@jupyter-widgets/base",
      "model_module_version": "1.1.0",
      "model_name": "LayoutModel",
      "state": {
       "width": "40%"
      }
     },
     "bbfe9453f810416590e873566b040e07": {
      "model_module": "@jupyter-widgets/base",
      "model_module_version": "1.1.0",
      "model_name": "LayoutModel",
      "state": {}
     },
     "bc4715bf9879429b97c3fd580cba1eea": {
      "model_module": "@jupyter-widgets/controls",
      "model_module_version": "1.4.0",
      "model_name": "SliderStyleModel",
      "state": {
       "description_width": ""
      }
     },
     "bcf2ff53d61049bcabf6186b3c149d2e": {
      "model_module": "@jupyter-widgets/controls",
      "model_module_version": "1.4.0",
      "model_name": "IntSliderModel",
      "state": {
       "description": "Party Size:",
       "layout": "IPY_MODEL_1581b4dff15143639d68564af4b1f620",
       "max": 10,
       "style": "IPY_MODEL_eb5cdee848e24ad68019e31c51f5127c",
       "value": 4
      }
     },
     "bdfee6f0a980497a877d2fc6ac2a4cea": {
      "model_module": "@jupyter-widgets/controls",
      "model_module_version": "1.4.0",
      "model_name": "DropdownModel",
      "state": {
       "_options_labels": [
        "Trivial",
        "Low",
        "High",
        "Severe",
        "Extreme"
       ],
       "description": "Encounter Severity: ",
       "index": 0,
       "layout": "IPY_MODEL_1cf299b24779470ea6e5d0f5a77b4c81",
       "style": "IPY_MODEL_ef4d99edb98043e38c43e1a5fe35c31f"
      }
     },
     "bf340214308848dbb27fee127ddd6a23": {
      "model_module": "@jupyter-widgets/controls",
      "model_module_version": "1.4.0",
      "model_name": "IntSliderModel",
      "state": {
       "description": "Party Size:",
       "layout": "IPY_MODEL_88d8a90174104ccc89f76bdf4f97ccaa",
       "max": 10,
       "style": "IPY_MODEL_26f62af0018f41a29af9692f10658289",
       "value": 4
      }
     },
     "bf6edf14ede4400cb8d0358b5dd11f77": {
      "model_module": "@jupyter-widgets/controls",
      "model_module_version": "1.4.0",
      "model_name": "DescriptionStyleModel",
      "state": {
       "description_width": "initial"
      }
     },
     "c2120346416f44cdae6557d855d6810f": {
      "model_module": "@jupyter-widgets/base",
      "model_module_version": "1.1.0",
      "model_name": "LayoutModel",
      "state": {
       "width": "40%"
      }
     },
     "c3cdc5b376b74bf3b3e050a1897eaa2c": {
      "model_module": "@jupyter-widgets/controls",
      "model_module_version": "1.4.0",
      "model_name": "DescriptionStyleModel",
      "state": {
       "description_width": "initial"
      }
     },
     "c5061e5adbe14c3bbf5bbe8a842394d4": {
      "model_module": "@jupyter-widgets/controls",
      "model_module_version": "1.4.0",
      "model_name": "SliderStyleModel",
      "state": {
       "description_width": "initial"
      }
     },
     "c614d0e7950e42ea990b491523539ec5": {
      "model_module": "@jupyter-widgets/controls",
      "model_module_version": "1.4.0",
      "model_name": "IntRangeSliderModel",
      "state": {
       "_model_name": "IntRangeSliderModel",
       "_view_name": "IntRangeSliderView",
       "continuous_update": false,
       "layout": "IPY_MODEL_c8b3fd2c221444efa11718badec865c3",
       "max": 20,
       "min": 1,
       "style": "IPY_MODEL_ec031caee3b94411a3b7f4350551121b",
       "value": [
        1,
        4
       ]
      }
     },
     "c71e11fc04fe4b6380a6d3e344c0f904": {
      "model_module": "@jupyter-widgets/controls",
      "model_module_version": "1.4.0",
      "model_name": "SliderStyleModel",
      "state": {
       "description_width": "initial"
      }
     },
     "c86216d7df364ef6ae892df669785597": {
      "model_module": "@jupyter-widgets/controls",
      "model_module_version": "1.4.0",
      "model_name": "IntSliderModel",
      "state": {
       "description": "Party Level:",
       "layout": "IPY_MODEL_718a25f30f0e4128b50f7418ffd840ac",
       "max": 20,
       "min": 1,
       "style": "IPY_MODEL_715b94d2190146adb9ad98baae43d5f1",
       "value": 1
      }
     },
     "c8b3fd2c221444efa11718badec865c3": {
      "model_module": "@jupyter-widgets/base",
      "model_module_version": "1.1.0",
      "model_name": "LayoutModel",
      "state": {
       "width": "40%"
      }
     },
     "c9664ad4c5e94b06a9b76a2aa5290930": {
      "model_module": "@jupyter-widgets/controls",
      "model_module_version": "1.4.0",
      "model_name": "SliderStyleModel",
      "state": {
       "description_width": "initial"
      }
     },
     "c967242466694bc0b6c6a6192e0475f9": {
      "model_module": "@jupyter-widgets/controls",
      "model_module_version": "1.4.0",
      "model_name": "ButtonModel",
      "state": {
       "description": "Build Encounters!",
       "layout": "IPY_MODEL_924e8b4364e34740aa66a8dca1aa9396",
       "style": "IPY_MODEL_781408085d8c4a6bbc4084330aaae2e8"
      }
     },
     "ca2abab689f9482ea46cc6907f924968": {
      "model_module": "@jupyter-widgets/controls",
      "model_module_version": "1.4.0",
      "model_name": "IntSliderModel",
      "state": {
       "description": "Party Level:",
       "layout": "IPY_MODEL_2492f8babbf649a0ab31d11079afd705",
       "max": 20,
       "min": 1,
       "style": "IPY_MODEL_ca4acc3414844954ac1836ebc0f77213",
       "value": 1
      }
     },
     "ca4acc3414844954ac1836ebc0f77213": {
      "model_module": "@jupyter-widgets/controls",
      "model_module_version": "1.4.0",
      "model_name": "SliderStyleModel",
      "state": {
       "description_width": "initial"
      }
     },
     "cabd7084d65f42a7b07a4d233122ef04": {
      "model_module": "@jupyter-widgets/controls",
      "model_module_version": "1.4.0",
      "model_name": "DropdownModel",
      "state": {
       "_options_labels": [
        "Trivial",
        "Low",
        "High",
        "Severe",
        "Extreme"
       ],
       "description": "Encounter Severity: ",
       "index": 0,
       "layout": "IPY_MODEL_67edb82baa9346a9aa2beb01a64e28bc",
       "style": "IPY_MODEL_bf6edf14ede4400cb8d0358b5dd11f77"
      }
     },
     "cb8ec13386534f808e4bc98727bc3405": {
      "model_module": "@jupyter-widgets/base",
      "model_module_version": "1.1.0",
      "model_name": "LayoutModel",
      "state": {
       "width": "40%"
      }
     },
     "cb9e2edf229a441a826d11fe6f414905": {
      "model_module": "@jupyter-widgets/controls",
      "model_module_version": "1.4.0",
      "model_name": "ButtonStyleModel",
      "state": {}
     },
     "cbbf828fcb97476b95893d9e9818c5af": {
      "model_module": "@jupyter-widgets/base",
      "model_module_version": "1.1.0",
      "model_name": "LayoutModel",
      "state": {}
     },
     "cc2d9362a177460bb390465bbfebe83f": {
      "model_module": "@jupyter-widgets/base",
      "model_module_version": "1.1.0",
      "model_name": "LayoutModel",
      "state": {}
     },
     "ccc62d90f4e143ef859d7968efac201f": {
      "model_module": "@jupyter-widgets/controls",
      "model_module_version": "1.4.0",
      "model_name": "SliderStyleModel",
      "state": {
       "description_width": "initial"
      }
     },
     "cd5cb1e0f6414862a16f1e939faecbf3": {
      "model_module": "@jupyter-widgets/base",
      "model_module_version": "1.1.0",
      "model_name": "LayoutModel",
      "state": {
       "width": "40%"
      }
     },
     "ce69bf6595d94679a37f719b62ca1bc2": {
      "model_module": "@jupyter-widgets/controls",
      "model_module_version": "1.4.0",
      "model_name": "IntSliderModel",
      "state": {
       "description": "Party Size:",
       "layout": "IPY_MODEL_b5f8bc286b574a0d88c0687d83120984",
       "max": 10,
       "style": "IPY_MODEL_11eeb9b8cb1a45f29e348c9cf4f80d1c",
       "value": 4
      }
     },
     "ce6aa28899614239b9ce6dceae5b21e8": {
      "model_module": "@jupyter-widgets/controls",
      "model_module_version": "1.4.0",
      "model_name": "ButtonModel",
      "state": {
       "description": "Build Encounters!",
       "layout": "IPY_MODEL_e9194cc169e64bee958bdb7e95a0dd94",
       "style": "IPY_MODEL_ac72c721ce1e4004a0e46f13b76d03a4"
      }
     },
     "ceb9d897585a41e996b164df5e2111f0": {
      "model_module": "@jupyter-widgets/controls",
      "model_module_version": "1.4.0",
      "model_name": "DescriptionStyleModel",
      "state": {
       "description_width": "initial"
      }
     },
     "d24bd7bde91241469d73b93abb8fd9d5": {
      "model_module": "@jupyter-widgets/base",
      "model_module_version": "1.1.0",
      "model_name": "LayoutModel",
      "state": {
       "width": "40%"
      }
     },
     "d3ad17a9e9864919a2c453247de35c00": {
      "model_module": "@jupyter-widgets/controls",
      "model_module_version": "1.4.0",
      "model_name": "DropdownModel",
      "state": {
       "_options_labels": [
        "Trivial",
        "Low",
        "High",
        "Severe",
        "Extreme"
       ],
       "description": "Encounter Severity: ",
       "index": 1,
       "layout": "IPY_MODEL_8e406bf49273440983c9974288276fdd",
       "style": "IPY_MODEL_4e3e224e9488469bb7cb7593b7edeed4"
      }
     },
     "d432209fb4d2489082e4e505f1500748": {
      "model_module": "@jupyter-widgets/controls",
      "model_module_version": "1.4.0",
      "model_name": "DropdownModel",
      "state": {
       "_options_labels": [
        "Trivial",
        "Low",
        "High",
        "Severe",
        "Extreme"
       ],
       "description": "Encounter Severity: ",
       "index": 0,
       "layout": "IPY_MODEL_326c1eb2e6f74633861e20009d697ad8",
       "style": "IPY_MODEL_e354bfd1e5b242bbaca30f82be21f12c"
      }
     },
     "d4b512beb4e7479cbb47249b0cf4a08e": {
      "model_module": "@jupyter-widgets/base",
      "model_module_version": "1.1.0",
      "model_name": "LayoutModel",
      "state": {
       "width": "40%"
      }
     },
     "d4c5c9c8d3584a9fbb04ec632bb886d2": {
      "model_module": "@jupyter-widgets/base",
      "model_module_version": "1.1.0",
      "model_name": "LayoutModel",
      "state": {
       "width": "40%"
      }
     },
     "d58bcc102555476397ab0d2278e0846c": {
      "model_module": "@jupyter-widgets/base",
      "model_module_version": "1.1.0",
      "model_name": "LayoutModel",
      "state": {
       "width": "40%"
      }
     },
     "d657b822b5d64d819c26ec9537fa7cbf": {
      "model_module": "@jupyter-widgets/controls",
      "model_module_version": "1.4.0",
      "model_name": "IntRangeSliderModel",
      "state": {
       "_model_name": "IntRangeSliderModel",
       "_view_name": "IntRangeSliderView",
       "continuous_update": false,
       "layout": "IPY_MODEL_95212c985ac848e2911da11a0b64c13d",
       "max": 20,
       "min": 1,
       "style": "IPY_MODEL_2ee44591864d41ff85dbae6ca4a4273b",
       "value": [
        1,
        20
       ]
      }
     },
     "d86b4d213f9a4901a3459524953f14dd": {
      "model_module": "@jupyter-widgets/controls",
      "model_module_version": "1.4.0",
      "model_name": "ButtonStyleModel",
      "state": {}
     },
     "d92c5faf52d649f4afc2a82aea80b71a": {
      "model_module": "@jupyter-widgets/controls",
      "model_module_version": "1.4.0",
      "model_name": "IntSliderModel",
      "state": {
       "description": "Party Size:",
       "layout": "IPY_MODEL_770604718dea4ffab41762a7fda39b4b",
       "max": 10,
       "style": "IPY_MODEL_378b34a6519e4a7dae9d18504ce116ad",
       "value": 4
      }
     },
     "d9fa87068bb04a2c8a253b95e25b6c5b": {
      "model_module": "@jupyter-widgets/controls",
      "model_module_version": "1.4.0",
      "model_name": "ButtonStyleModel",
      "state": {}
     },
     "dab195cf7fcc4b548fb2be871f03b608": {
      "model_module": "@jupyter-widgets/base",
      "model_module_version": "1.1.0",
      "model_name": "LayoutModel",
      "state": {}
     },
     "dba6c1e2899d48e3b19f84ffef9dcf8c": {
      "model_module": "@jupyter-widgets/base",
      "model_module_version": "1.1.0",
      "model_name": "LayoutModel",
      "state": {}
     },
     "dbb03c32ac334e2cb2e8dedcdde93afc": {
      "model_module": "@jupyter-widgets/base",
      "model_module_version": "1.1.0",
      "model_name": "LayoutModel",
      "state": {}
     },
     "dc4781f392a34b2997553bd34d2588bf": {
      "model_module": "@jupyter-widgets/controls",
      "model_module_version": "1.4.0",
      "model_name": "IntSliderModel",
      "state": {
       "description": "Party Size:",
       "layout": "IPY_MODEL_afa5270eb7bc4a8f87b7bbf97a604254",
       "max": 10,
       "style": "IPY_MODEL_b2d2e5aaad194c818d44d3ab3c106c61",
       "value": 4
      }
     },
     "dd5a656089104369b5c58e145b747cf9": {
      "model_module": "@jupyter-widgets/controls",
      "model_module_version": "1.4.0",
      "model_name": "SliderStyleModel",
      "state": {
       "description_width": ""
      }
     },
     "deac44970c0440ccb85ff6055238bf5a": {
      "model_module": "@jupyter-widgets/base",
      "model_module_version": "1.1.0",
      "model_name": "LayoutModel",
      "state": {
       "width": "40%"
      }
     },
     "df3f924b0d5c43dda038209ab66f32f3": {
      "model_module": "@jupyter-widgets/controls",
      "model_module_version": "1.4.0",
      "model_name": "IntSliderModel",
      "state": {
       "description": "Party Size:",
       "layout": "IPY_MODEL_3193142547df4c61a44ae17ff6bbcd32",
       "max": 10,
       "style": "IPY_MODEL_9e4bf565a09c40179b9132c3c6111486",
       "value": 4
      }
     },
     "df9fff5682bb4c69a31919a701011425": {
      "model_module": "@jupyter-widgets/controls",
      "model_module_version": "1.4.0",
      "model_name": "DescriptionStyleModel",
      "state": {
       "description_width": "initial"
      }
     },
     "e0cf59b0d6b14dfda22194119b3db865": {
      "model_module": "@jupyter-widgets/base",
      "model_module_version": "1.1.0",
      "model_name": "LayoutModel",
      "state": {
       "width": "40%"
      }
     },
     "e13b597f8329442798be2024e18ec65d": {
      "model_module": "@jupyter-widgets/base",
      "model_module_version": "1.1.0",
      "model_name": "LayoutModel",
      "state": {
       "width": "40%"
      }
     },
     "e1827020d82c4349bd356a7aa37d0a4f": {
      "model_module": "@jupyter-widgets/base",
      "model_module_version": "1.1.0",
      "model_name": "LayoutModel",
      "state": {}
     },
     "e293fd32fa83485dba806aee18ece74c": {
      "model_module": "@jupyter-widgets/controls",
      "model_module_version": "1.4.0",
      "model_name": "DescriptionStyleModel",
      "state": {
       "description_width": "initial"
      }
     },
     "e354bfd1e5b242bbaca30f82be21f12c": {
      "model_module": "@jupyter-widgets/controls",
      "model_module_version": "1.4.0",
      "model_name": "DescriptionStyleModel",
      "state": {
       "description_width": "initial"
      }
     },
     "e44e3112fa7244df88a913b20990a841": {
      "model_module": "@jupyter-widgets/controls",
      "model_module_version": "1.4.0",
      "model_name": "DescriptionStyleModel",
      "state": {
       "description_width": "initial"
      }
     },
     "e7161b919d12435f8715d66fdc069c7c": {
      "model_module": "@jupyter-widgets/controls",
      "model_module_version": "1.4.0",
      "model_name": "DescriptionStyleModel",
      "state": {
       "description_width": "initial"
      }
     },
     "e7788893051940778b971209e6ccb97f": {
      "model_module": "@jupyter-widgets/controls",
      "model_module_version": "1.4.0",
      "model_name": "DescriptionStyleModel",
      "state": {
       "description_width": "initial"
      }
     },
     "e7b26a69e7f747b1b785ebafbf58e2db": {
      "model_module": "@jupyter-widgets/controls",
      "model_module_version": "1.4.0",
      "model_name": "DescriptionStyleModel",
      "state": {
       "description_width": "initial"
      }
     },
     "e9194cc169e64bee958bdb7e95a0dd94": {
      "model_module": "@jupyter-widgets/base",
      "model_module_version": "1.1.0",
      "model_name": "LayoutModel",
      "state": {}
     },
     "ea0ff3b0c7b24cc4b8b208b3e549a368": {
      "model_module": "@jupyter-widgets/base",
      "model_module_version": "1.1.0",
      "model_name": "LayoutModel",
      "state": {}
     },
     "eb5cdee848e24ad68019e31c51f5127c": {
      "model_module": "@jupyter-widgets/controls",
      "model_module_version": "1.4.0",
      "model_name": "SliderStyleModel",
      "state": {
       "description_width": "initial"
      }
     },
     "ec031caee3b94411a3b7f4350551121b": {
      "model_module": "@jupyter-widgets/controls",
      "model_module_version": "1.4.0",
      "model_name": "SliderStyleModel",
      "state": {
       "description_width": ""
      }
     },
     "ec4618f5df1f4381bb4884c55fedbd6a": {
      "model_module": "@jupyter-widgets/base",
      "model_module_version": "1.1.0",
      "model_name": "LayoutModel",
      "state": {}
     },
     "ec479cab65fe4fefbd280f9a10c87fbf": {
      "model_module": "@jupyter-widgets/base",
      "model_module_version": "1.1.0",
      "model_name": "LayoutModel",
      "state": {}
     },
     "ec52dd2c0e0d426a801cd990f42ea511": {
      "model_module": "@jupyter-widgets/base",
      "model_module_version": "1.1.0",
      "model_name": "LayoutModel",
      "state": {}
     },
     "ed1a118cc4b44d81872ba23bcc81a240": {
      "model_module": "@jupyter-widgets/controls",
      "model_module_version": "1.4.0",
      "model_name": "SliderStyleModel",
      "state": {
       "description_width": ""
      }
     },
     "eeac65f53887495eaf5c30b439549a05": {
      "model_module": "@jupyter-widgets/controls",
      "model_module_version": "1.4.0",
      "model_name": "ButtonModel",
      "state": {
       "description": "Build Encounters!",
       "layout": "IPY_MODEL_3f74072faa074b99a50f8e891f8f2609",
       "style": "IPY_MODEL_a1534d6249cf4012867d5c0dfc5a7122"
      }
     },
     "ef4d99edb98043e38c43e1a5fe35c31f": {
      "model_module": "@jupyter-widgets/controls",
      "model_module_version": "1.4.0",
      "model_name": "DescriptionStyleModel",
      "state": {
       "description_width": "initial"
      }
     },
     "ef5d2e89ed39450b9c7be9dbb0bed2b4": {
      "model_module": "@jupyter-widgets/controls",
      "model_module_version": "1.4.0",
      "model_name": "SliderStyleModel",
      "state": {
       "description_width": "initial"
      }
     },
     "f0979a8e0b4243b89a6f65b4f663fb5a": {
      "model_module": "@jupyter-widgets/controls",
      "model_module_version": "1.4.0",
      "model_name": "IntRangeSliderModel",
      "state": {
       "_model_name": "IntRangeSliderModel",
       "_view_name": "IntRangeSliderView",
       "continuous_update": false,
       "layout": "IPY_MODEL_3b684e2277de4319841e750bc5d2f979",
       "max": 20,
       "min": 1,
       "style": "IPY_MODEL_8404eaa0974448568b408d57936cdaed",
       "value": [
        1,
        20
       ]
      }
     },
     "f2ad07ee3a264fa799ec48716e1bedad": {
      "model_module": "@jupyter-widgets/base",
      "model_module_version": "1.1.0",
      "model_name": "LayoutModel",
      "state": {}
     },
     "f61df3e3c6dc4ff5a8e1f3dc2fc497c9": {
      "model_module": "@jupyter-widgets/controls",
      "model_module_version": "1.4.0",
      "model_name": "SliderStyleModel",
      "state": {
       "description_width": "initial"
      }
     },
     "f83c26ec325e47919f987f2e8e1a91eb": {
      "model_module": "@jupyter-widgets/controls",
      "model_module_version": "1.4.0",
      "model_name": "DescriptionStyleModel",
      "state": {
       "description_width": "initial"
      }
     },
     "f8f17e9550d74a2ab7e8e5da80f6652b": {
      "model_module": "@jupyter-widgets/controls",
      "model_module_version": "1.4.0",
      "model_name": "DropdownModel",
      "state": {
       "_options_labels": [
        "Trivial",
        "Low",
        "High",
        "Severe",
        "Extreme"
       ],
       "description": "Encounter Severity: ",
       "index": 1,
       "layout": "IPY_MODEL_275416be05224613aa15d33bf5523596",
       "style": "IPY_MODEL_df9fff5682bb4c69a31919a701011425"
      }
     },
     "fa4d27e73c4f4d55a37a5b48a6b13d2f": {
      "model_module": "@jupyter-widgets/controls",
      "model_module_version": "1.4.0",
      "model_name": "BoundedIntTextModel",
      "state": {
       "description": "Manual XP Budget (Optional):",
       "layout": "IPY_MODEL_a3364c341623419ea7c41a73d231f736",
       "max": 500,
       "step": 5,
       "style": "IPY_MODEL_ceb9d897585a41e996b164df5e2111f0"
      }
     },
     "fa67a48a36464d2ab9cefa9fbfa81b0f": {
      "model_module": "@jupyter-widgets/controls",
      "model_module_version": "1.4.0",
      "model_name": "ButtonModel",
      "state": {
       "description": "Build Encounters!",
       "layout": "IPY_MODEL_91920c269c5046f7be53d22b67dd5a9e",
       "style": "IPY_MODEL_d9fa87068bb04a2c8a253b95e25b6c5b"
      }
     },
     "fa872d178f164240bdf458ece6bfd31e": {
      "model_module": "@jupyter-widgets/controls",
      "model_module_version": "1.4.0",
      "model_name": "SliderStyleModel",
      "state": {
       "description_width": ""
      }
     },
     "fb32a18a847e4f93946342dc663a9b6c": {
      "model_module": "@jupyter-widgets/controls",
      "model_module_version": "1.4.0",
      "model_name": "DropdownModel",
      "state": {
       "_options_labels": [
        "Trivial",
        "Low",
        "High",
        "Severe",
        "Extreme"
       ],
       "description": "Encounter Severity: ",
       "index": 0,
       "layout": "IPY_MODEL_90806430ee744737816907315bce5904",
       "style": "IPY_MODEL_63ae59018dc94fd584f5dbfb3766ca73"
      }
     },
     "fd7f9f4196cf483a98284de35853e722": {
      "model_module": "@jupyter-widgets/controls",
      "model_module_version": "1.4.0",
      "model_name": "IntRangeSliderModel",
      "state": {
       "_model_name": "IntRangeSliderModel",
       "_view_name": "IntRangeSliderView",
       "continuous_update": false,
       "layout": "IPY_MODEL_9cd838b9fd144e78b62375eded38c3fb",
       "max": 20,
       "min": 1,
       "style": "IPY_MODEL_bc4715bf9879429b97c3fd580cba1eea",
       "value": [
        1,
        20
       ]
      }
     },
     "fe1d4437bd7b4f59a3ddf87b00a9b399": {
      "model_module": "@jupyter-widgets/controls",
      "model_module_version": "1.4.0",
      "model_name": "SliderStyleModel",
      "state": {
       "description_width": "initial"
      }
     },
     "ffbc0ec3faab49d7948009b4d802d4ea": {
      "model_module": "@jupyter-widgets/controls",
      "model_module_version": "1.4.0",
      "model_name": "IntSliderModel",
      "state": {
       "description": "Party Size:",
       "layout": "IPY_MODEL_56abd68cb86743da8d20ee0918971ac8",
       "max": 10,
       "style": "IPY_MODEL_7ac4457eb4d1414ba98d58ba0e07868f",
       "value": 4
      }
     }
    },
    "version_major": 2,
    "version_minor": 0
   }
  }
 },
 "nbformat": 4,
 "nbformat_minor": 2
}
